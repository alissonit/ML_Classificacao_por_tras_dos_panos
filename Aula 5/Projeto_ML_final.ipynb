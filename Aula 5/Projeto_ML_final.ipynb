{
  "cells": [
    {
      "cell_type": "markdown",
      "metadata": {
        "id": "view-in-github",
        "colab_type": "text"
      },
      "source": [
        "<a href=\"https://colab.research.google.com/github/alissonit/ML_Classificacao_por_tras_dos_panos/blob/main/Aula%205/Projeto_ML_final.ipynb\" target=\"_parent\"><img src=\"https://colab.research.google.com/assets/colab-badge.svg\" alt=\"Open In Colab\"/></a>"
      ]
    },
    {
      "cell_type": "markdown",
      "metadata": {
        "id": "uOxsWL4fyQ2J"
      },
      "source": [
        "# Aula 1 - Classificação: o que é e como funciona?"
      ]
    },
    {
      "cell_type": "markdown",
      "metadata": {
        "id": "LsoUVpNWyQ2M"
      },
      "source": [
        "## 1.1 - Apresentação\n"
      ]
    },
    {
      "cell_type": "markdown",
      "metadata": {
        "id": "vuZVqaVCyQ2M"
      },
      "source": [
        "## 1.2 - Importando os dados"
      ]
    },
    {
      "cell_type": "code",
      "execution_count": 155,
      "metadata": {
        "id": "EcFx0fP0yQ2N"
      },
      "outputs": [],
      "source": [
        "import pandas as pd"
      ]
    },
    {
      "cell_type": "code",
      "execution_count": 156,
      "metadata": {
        "id": "jMxgxTXnyQ2O"
      },
      "outputs": [],
      "source": [
        "dados = pd.read_csv('https://raw.githubusercontent.com/alissonit/ML_Classificacao_por_tras_dos_panos/main/Dados/Customer-Churn.csv')"
      ]
    },
    {
      "cell_type": "code",
      "execution_count": 157,
      "metadata": {
        "colab": {
          "base_uri": "https://localhost:8080/"
        },
        "id": "neE16a7wyQ2O",
        "outputId": "91369a98-b613-4812-babc-d2a3a91c3ff8"
      },
      "outputs": [
        {
          "output_type": "execute_result",
          "data": {
            "text/plain": [
              "(7043, 18)"
            ]
          },
          "metadata": {},
          "execution_count": 157
        }
      ],
      "source": [
        "dados.shape"
      ]
    },
    {
      "cell_type": "code",
      "execution_count": 158,
      "metadata": {
        "colab": {
          "base_uri": "https://localhost:8080/",
          "height": 226
        },
        "id": "k_QTfXOSyQ2P",
        "outputId": "23a3b059-b72b-4ec7-83b8-bfbcd50fc4fa"
      },
      "outputs": [
        {
          "output_type": "execute_result",
          "data": {
            "text/plain": [
              "   Maior65Anos Conjuge Dependentes  MesesDeContrato TelefoneFixo  \\\n",
              "0            0     Sim         Nao                1          Nao   \n",
              "1            0     Nao         Nao               34          Sim   \n",
              "2            0     Nao         Nao                2          Sim   \n",
              "3            0     Nao         Nao               45          Nao   \n",
              "4            0     Nao         Nao                2          Sim   \n",
              "\n",
              "  VariasLinhasTelefonicas ServicoDeInternet SegurancaOnline BackupOnline  \\\n",
              "0    SemServicoTelefonico               DSL             Nao          Sim   \n",
              "1                     Nao               DSL             Sim          Nao   \n",
              "2                     Nao               DSL             Sim          Sim   \n",
              "3    SemServicoTelefonico               DSL             Sim          Nao   \n",
              "4                     Nao       FibraOptica             Nao          Nao   \n",
              "\n",
              "  SeguroNoDispositivo SuporteTecnico TVaCabo StreamingDeFilmes TipoDeContrato  \\\n",
              "0                 Nao            Nao     Nao               Nao    Mensalmente   \n",
              "1                 Sim            Nao     Nao               Nao          UmAno   \n",
              "2                 Nao            Nao     Nao               Nao    Mensalmente   \n",
              "3                 Sim            Sim     Nao               Nao          UmAno   \n",
              "4                 Nao            Nao     Nao               Nao    Mensalmente   \n",
              "\n",
              "  PagamentoOnline FormaDePagamento  ContaMensal Churn  \n",
              "0             Sim    ChequeDigital        29.85   Nao  \n",
              "1             Nao      ChequePapel        56.95   Nao  \n",
              "2             Sim      ChequePapel        53.85   Sim  \n",
              "3             Nao    DebitoEmConta        42.30   Nao  \n",
              "4             Sim    ChequeDigital        70.70   Sim  "
            ],
            "text/html": [
              "\n",
              "  <div id=\"df-373c50f7-9282-468a-9e1b-a5f5eabe9cd2\" class=\"colab-df-container\">\n",
              "    <div>\n",
              "<style scoped>\n",
              "    .dataframe tbody tr th:only-of-type {\n",
              "        vertical-align: middle;\n",
              "    }\n",
              "\n",
              "    .dataframe tbody tr th {\n",
              "        vertical-align: top;\n",
              "    }\n",
              "\n",
              "    .dataframe thead th {\n",
              "        text-align: right;\n",
              "    }\n",
              "</style>\n",
              "<table border=\"1\" class=\"dataframe\">\n",
              "  <thead>\n",
              "    <tr style=\"text-align: right;\">\n",
              "      <th></th>\n",
              "      <th>Maior65Anos</th>\n",
              "      <th>Conjuge</th>\n",
              "      <th>Dependentes</th>\n",
              "      <th>MesesDeContrato</th>\n",
              "      <th>TelefoneFixo</th>\n",
              "      <th>VariasLinhasTelefonicas</th>\n",
              "      <th>ServicoDeInternet</th>\n",
              "      <th>SegurancaOnline</th>\n",
              "      <th>BackupOnline</th>\n",
              "      <th>SeguroNoDispositivo</th>\n",
              "      <th>SuporteTecnico</th>\n",
              "      <th>TVaCabo</th>\n",
              "      <th>StreamingDeFilmes</th>\n",
              "      <th>TipoDeContrato</th>\n",
              "      <th>PagamentoOnline</th>\n",
              "      <th>FormaDePagamento</th>\n",
              "      <th>ContaMensal</th>\n",
              "      <th>Churn</th>\n",
              "    </tr>\n",
              "  </thead>\n",
              "  <tbody>\n",
              "    <tr>\n",
              "      <th>0</th>\n",
              "      <td>0</td>\n",
              "      <td>Sim</td>\n",
              "      <td>Nao</td>\n",
              "      <td>1</td>\n",
              "      <td>Nao</td>\n",
              "      <td>SemServicoTelefonico</td>\n",
              "      <td>DSL</td>\n",
              "      <td>Nao</td>\n",
              "      <td>Sim</td>\n",
              "      <td>Nao</td>\n",
              "      <td>Nao</td>\n",
              "      <td>Nao</td>\n",
              "      <td>Nao</td>\n",
              "      <td>Mensalmente</td>\n",
              "      <td>Sim</td>\n",
              "      <td>ChequeDigital</td>\n",
              "      <td>29.85</td>\n",
              "      <td>Nao</td>\n",
              "    </tr>\n",
              "    <tr>\n",
              "      <th>1</th>\n",
              "      <td>0</td>\n",
              "      <td>Nao</td>\n",
              "      <td>Nao</td>\n",
              "      <td>34</td>\n",
              "      <td>Sim</td>\n",
              "      <td>Nao</td>\n",
              "      <td>DSL</td>\n",
              "      <td>Sim</td>\n",
              "      <td>Nao</td>\n",
              "      <td>Sim</td>\n",
              "      <td>Nao</td>\n",
              "      <td>Nao</td>\n",
              "      <td>Nao</td>\n",
              "      <td>UmAno</td>\n",
              "      <td>Nao</td>\n",
              "      <td>ChequePapel</td>\n",
              "      <td>56.95</td>\n",
              "      <td>Nao</td>\n",
              "    </tr>\n",
              "    <tr>\n",
              "      <th>2</th>\n",
              "      <td>0</td>\n",
              "      <td>Nao</td>\n",
              "      <td>Nao</td>\n",
              "      <td>2</td>\n",
              "      <td>Sim</td>\n",
              "      <td>Nao</td>\n",
              "      <td>DSL</td>\n",
              "      <td>Sim</td>\n",
              "      <td>Sim</td>\n",
              "      <td>Nao</td>\n",
              "      <td>Nao</td>\n",
              "      <td>Nao</td>\n",
              "      <td>Nao</td>\n",
              "      <td>Mensalmente</td>\n",
              "      <td>Sim</td>\n",
              "      <td>ChequePapel</td>\n",
              "      <td>53.85</td>\n",
              "      <td>Sim</td>\n",
              "    </tr>\n",
              "    <tr>\n",
              "      <th>3</th>\n",
              "      <td>0</td>\n",
              "      <td>Nao</td>\n",
              "      <td>Nao</td>\n",
              "      <td>45</td>\n",
              "      <td>Nao</td>\n",
              "      <td>SemServicoTelefonico</td>\n",
              "      <td>DSL</td>\n",
              "      <td>Sim</td>\n",
              "      <td>Nao</td>\n",
              "      <td>Sim</td>\n",
              "      <td>Sim</td>\n",
              "      <td>Nao</td>\n",
              "      <td>Nao</td>\n",
              "      <td>UmAno</td>\n",
              "      <td>Nao</td>\n",
              "      <td>DebitoEmConta</td>\n",
              "      <td>42.30</td>\n",
              "      <td>Nao</td>\n",
              "    </tr>\n",
              "    <tr>\n",
              "      <th>4</th>\n",
              "      <td>0</td>\n",
              "      <td>Nao</td>\n",
              "      <td>Nao</td>\n",
              "      <td>2</td>\n",
              "      <td>Sim</td>\n",
              "      <td>Nao</td>\n",
              "      <td>FibraOptica</td>\n",
              "      <td>Nao</td>\n",
              "      <td>Nao</td>\n",
              "      <td>Nao</td>\n",
              "      <td>Nao</td>\n",
              "      <td>Nao</td>\n",
              "      <td>Nao</td>\n",
              "      <td>Mensalmente</td>\n",
              "      <td>Sim</td>\n",
              "      <td>ChequeDigital</td>\n",
              "      <td>70.70</td>\n",
              "      <td>Sim</td>\n",
              "    </tr>\n",
              "  </tbody>\n",
              "</table>\n",
              "</div>\n",
              "    <div class=\"colab-df-buttons\">\n",
              "\n",
              "  <div class=\"colab-df-container\">\n",
              "    <button class=\"colab-df-convert\" onclick=\"convertToInteractive('df-373c50f7-9282-468a-9e1b-a5f5eabe9cd2')\"\n",
              "            title=\"Convert this dataframe to an interactive table.\"\n",
              "            style=\"display:none;\">\n",
              "\n",
              "  <svg xmlns=\"http://www.w3.org/2000/svg\" height=\"24px\" viewBox=\"0 -960 960 960\">\n",
              "    <path d=\"M120-120v-720h720v720H120Zm60-500h600v-160H180v160Zm220 220h160v-160H400v160Zm0 220h160v-160H400v160ZM180-400h160v-160H180v160Zm440 0h160v-160H620v160ZM180-180h160v-160H180v160Zm440 0h160v-160H620v160Z\"/>\n",
              "  </svg>\n",
              "    </button>\n",
              "\n",
              "  <style>\n",
              "    .colab-df-container {\n",
              "      display:flex;\n",
              "      gap: 12px;\n",
              "    }\n",
              "\n",
              "    .colab-df-convert {\n",
              "      background-color: #E8F0FE;\n",
              "      border: none;\n",
              "      border-radius: 50%;\n",
              "      cursor: pointer;\n",
              "      display: none;\n",
              "      fill: #1967D2;\n",
              "      height: 32px;\n",
              "      padding: 0 0 0 0;\n",
              "      width: 32px;\n",
              "    }\n",
              "\n",
              "    .colab-df-convert:hover {\n",
              "      background-color: #E2EBFA;\n",
              "      box-shadow: 0px 1px 2px rgba(60, 64, 67, 0.3), 0px 1px 3px 1px rgba(60, 64, 67, 0.15);\n",
              "      fill: #174EA6;\n",
              "    }\n",
              "\n",
              "    .colab-df-buttons div {\n",
              "      margin-bottom: 4px;\n",
              "    }\n",
              "\n",
              "    [theme=dark] .colab-df-convert {\n",
              "      background-color: #3B4455;\n",
              "      fill: #D2E3FC;\n",
              "    }\n",
              "\n",
              "    [theme=dark] .colab-df-convert:hover {\n",
              "      background-color: #434B5C;\n",
              "      box-shadow: 0px 1px 3px 1px rgba(0, 0, 0, 0.15);\n",
              "      filter: drop-shadow(0px 1px 2px rgba(0, 0, 0, 0.3));\n",
              "      fill: #FFFFFF;\n",
              "    }\n",
              "  </style>\n",
              "\n",
              "    <script>\n",
              "      const buttonEl =\n",
              "        document.querySelector('#df-373c50f7-9282-468a-9e1b-a5f5eabe9cd2 button.colab-df-convert');\n",
              "      buttonEl.style.display =\n",
              "        google.colab.kernel.accessAllowed ? 'block' : 'none';\n",
              "\n",
              "      async function convertToInteractive(key) {\n",
              "        const element = document.querySelector('#df-373c50f7-9282-468a-9e1b-a5f5eabe9cd2');\n",
              "        const dataTable =\n",
              "          await google.colab.kernel.invokeFunction('convertToInteractive',\n",
              "                                                    [key], {});\n",
              "        if (!dataTable) return;\n",
              "\n",
              "        const docLinkHtml = 'Like what you see? Visit the ' +\n",
              "          '<a target=\"_blank\" href=https://colab.research.google.com/notebooks/data_table.ipynb>data table notebook</a>'\n",
              "          + ' to learn more about interactive tables.';\n",
              "        element.innerHTML = '';\n",
              "        dataTable['output_type'] = 'display_data';\n",
              "        await google.colab.output.renderOutput(dataTable, element);\n",
              "        const docLink = document.createElement('div');\n",
              "        docLink.innerHTML = docLinkHtml;\n",
              "        element.appendChild(docLink);\n",
              "      }\n",
              "    </script>\n",
              "  </div>\n",
              "\n",
              "\n",
              "<div id=\"df-20112e33-cefd-4c04-89b6-14ffe60a5a07\">\n",
              "  <button class=\"colab-df-quickchart\" onclick=\"quickchart('df-20112e33-cefd-4c04-89b6-14ffe60a5a07')\"\n",
              "            title=\"Suggest charts.\"\n",
              "            style=\"display:none;\">\n",
              "\n",
              "<svg xmlns=\"http://www.w3.org/2000/svg\" height=\"24px\"viewBox=\"0 0 24 24\"\n",
              "     width=\"24px\">\n",
              "    <g>\n",
              "        <path d=\"M19 3H5c-1.1 0-2 .9-2 2v14c0 1.1.9 2 2 2h14c1.1 0 2-.9 2-2V5c0-1.1-.9-2-2-2zM9 17H7v-7h2v7zm4 0h-2V7h2v10zm4 0h-2v-4h2v4z\"/>\n",
              "    </g>\n",
              "</svg>\n",
              "  </button>\n",
              "\n",
              "<style>\n",
              "  .colab-df-quickchart {\n",
              "      --bg-color: #E8F0FE;\n",
              "      --fill-color: #1967D2;\n",
              "      --hover-bg-color: #E2EBFA;\n",
              "      --hover-fill-color: #174EA6;\n",
              "      --disabled-fill-color: #AAA;\n",
              "      --disabled-bg-color: #DDD;\n",
              "  }\n",
              "\n",
              "  [theme=dark] .colab-df-quickchart {\n",
              "      --bg-color: #3B4455;\n",
              "      --fill-color: #D2E3FC;\n",
              "      --hover-bg-color: #434B5C;\n",
              "      --hover-fill-color: #FFFFFF;\n",
              "      --disabled-bg-color: #3B4455;\n",
              "      --disabled-fill-color: #666;\n",
              "  }\n",
              "\n",
              "  .colab-df-quickchart {\n",
              "    background-color: var(--bg-color);\n",
              "    border: none;\n",
              "    border-radius: 50%;\n",
              "    cursor: pointer;\n",
              "    display: none;\n",
              "    fill: var(--fill-color);\n",
              "    height: 32px;\n",
              "    padding: 0;\n",
              "    width: 32px;\n",
              "  }\n",
              "\n",
              "  .colab-df-quickchart:hover {\n",
              "    background-color: var(--hover-bg-color);\n",
              "    box-shadow: 0 1px 2px rgba(60, 64, 67, 0.3), 0 1px 3px 1px rgba(60, 64, 67, 0.15);\n",
              "    fill: var(--button-hover-fill-color);\n",
              "  }\n",
              "\n",
              "  .colab-df-quickchart-complete:disabled,\n",
              "  .colab-df-quickchart-complete:disabled:hover {\n",
              "    background-color: var(--disabled-bg-color);\n",
              "    fill: var(--disabled-fill-color);\n",
              "    box-shadow: none;\n",
              "  }\n",
              "\n",
              "  .colab-df-spinner {\n",
              "    border: 2px solid var(--fill-color);\n",
              "    border-color: transparent;\n",
              "    border-bottom-color: var(--fill-color);\n",
              "    animation:\n",
              "      spin 1s steps(1) infinite;\n",
              "  }\n",
              "\n",
              "  @keyframes spin {\n",
              "    0% {\n",
              "      border-color: transparent;\n",
              "      border-bottom-color: var(--fill-color);\n",
              "      border-left-color: var(--fill-color);\n",
              "    }\n",
              "    20% {\n",
              "      border-color: transparent;\n",
              "      border-left-color: var(--fill-color);\n",
              "      border-top-color: var(--fill-color);\n",
              "    }\n",
              "    30% {\n",
              "      border-color: transparent;\n",
              "      border-left-color: var(--fill-color);\n",
              "      border-top-color: var(--fill-color);\n",
              "      border-right-color: var(--fill-color);\n",
              "    }\n",
              "    40% {\n",
              "      border-color: transparent;\n",
              "      border-right-color: var(--fill-color);\n",
              "      border-top-color: var(--fill-color);\n",
              "    }\n",
              "    60% {\n",
              "      border-color: transparent;\n",
              "      border-right-color: var(--fill-color);\n",
              "    }\n",
              "    80% {\n",
              "      border-color: transparent;\n",
              "      border-right-color: var(--fill-color);\n",
              "      border-bottom-color: var(--fill-color);\n",
              "    }\n",
              "    90% {\n",
              "      border-color: transparent;\n",
              "      border-bottom-color: var(--fill-color);\n",
              "    }\n",
              "  }\n",
              "</style>\n",
              "\n",
              "  <script>\n",
              "    async function quickchart(key) {\n",
              "      const quickchartButtonEl =\n",
              "        document.querySelector('#' + key + ' button');\n",
              "      quickchartButtonEl.disabled = true;  // To prevent multiple clicks.\n",
              "      quickchartButtonEl.classList.add('colab-df-spinner');\n",
              "      try {\n",
              "        const charts = await google.colab.kernel.invokeFunction(\n",
              "            'suggestCharts', [key], {});\n",
              "      } catch (error) {\n",
              "        console.error('Error during call to suggestCharts:', error);\n",
              "      }\n",
              "      quickchartButtonEl.classList.remove('colab-df-spinner');\n",
              "      quickchartButtonEl.classList.add('colab-df-quickchart-complete');\n",
              "    }\n",
              "    (() => {\n",
              "      let quickchartButtonEl =\n",
              "        document.querySelector('#df-20112e33-cefd-4c04-89b6-14ffe60a5a07 button');\n",
              "      quickchartButtonEl.style.display =\n",
              "        google.colab.kernel.accessAllowed ? 'block' : 'none';\n",
              "    })();\n",
              "  </script>\n",
              "</div>\n",
              "    </div>\n",
              "  </div>\n"
            ]
          },
          "metadata": {},
          "execution_count": 158
        }
      ],
      "source": [
        "dados.head()"
      ]
    },
    {
      "cell_type": "markdown",
      "metadata": {
        "id": "V8lNCeRnyQ2P"
      },
      "source": [
        "## 1.3 - Diferentes Variáveis"
      ]
    },
    {
      "cell_type": "code",
      "execution_count": 159,
      "metadata": {
        "colab": {
          "base_uri": "https://localhost:8080/",
          "height": 206
        },
        "id": "uQLvJoZ0yQ2Q",
        "outputId": "c569ccd1-2ec4-4565-a7f5-0f8150722e34"
      },
      "outputs": [
        {
          "output_type": "execute_result",
          "data": {
            "text/plain": [
              "   Conjuge  Dependentes  TelefoneFixo  PagamentoOnline  Churn\n",
              "0        1            0             0                1      0\n",
              "1        0            0             1                0      0\n",
              "2        0            0             1                1      1\n",
              "3        0            0             0                0      0\n",
              "4        0            0             1                1      1"
            ],
            "text/html": [
              "\n",
              "  <div id=\"df-3cbd40dd-1902-4805-be81-5aea508a930f\" class=\"colab-df-container\">\n",
              "    <div>\n",
              "<style scoped>\n",
              "    .dataframe tbody tr th:only-of-type {\n",
              "        vertical-align: middle;\n",
              "    }\n",
              "\n",
              "    .dataframe tbody tr th {\n",
              "        vertical-align: top;\n",
              "    }\n",
              "\n",
              "    .dataframe thead th {\n",
              "        text-align: right;\n",
              "    }\n",
              "</style>\n",
              "<table border=\"1\" class=\"dataframe\">\n",
              "  <thead>\n",
              "    <tr style=\"text-align: right;\">\n",
              "      <th></th>\n",
              "      <th>Conjuge</th>\n",
              "      <th>Dependentes</th>\n",
              "      <th>TelefoneFixo</th>\n",
              "      <th>PagamentoOnline</th>\n",
              "      <th>Churn</th>\n",
              "    </tr>\n",
              "  </thead>\n",
              "  <tbody>\n",
              "    <tr>\n",
              "      <th>0</th>\n",
              "      <td>1</td>\n",
              "      <td>0</td>\n",
              "      <td>0</td>\n",
              "      <td>1</td>\n",
              "      <td>0</td>\n",
              "    </tr>\n",
              "    <tr>\n",
              "      <th>1</th>\n",
              "      <td>0</td>\n",
              "      <td>0</td>\n",
              "      <td>1</td>\n",
              "      <td>0</td>\n",
              "      <td>0</td>\n",
              "    </tr>\n",
              "    <tr>\n",
              "      <th>2</th>\n",
              "      <td>0</td>\n",
              "      <td>0</td>\n",
              "      <td>1</td>\n",
              "      <td>1</td>\n",
              "      <td>1</td>\n",
              "    </tr>\n",
              "    <tr>\n",
              "      <th>3</th>\n",
              "      <td>0</td>\n",
              "      <td>0</td>\n",
              "      <td>0</td>\n",
              "      <td>0</td>\n",
              "      <td>0</td>\n",
              "    </tr>\n",
              "    <tr>\n",
              "      <th>4</th>\n",
              "      <td>0</td>\n",
              "      <td>0</td>\n",
              "      <td>1</td>\n",
              "      <td>1</td>\n",
              "      <td>1</td>\n",
              "    </tr>\n",
              "  </tbody>\n",
              "</table>\n",
              "</div>\n",
              "    <div class=\"colab-df-buttons\">\n",
              "\n",
              "  <div class=\"colab-df-container\">\n",
              "    <button class=\"colab-df-convert\" onclick=\"convertToInteractive('df-3cbd40dd-1902-4805-be81-5aea508a930f')\"\n",
              "            title=\"Convert this dataframe to an interactive table.\"\n",
              "            style=\"display:none;\">\n",
              "\n",
              "  <svg xmlns=\"http://www.w3.org/2000/svg\" height=\"24px\" viewBox=\"0 -960 960 960\">\n",
              "    <path d=\"M120-120v-720h720v720H120Zm60-500h600v-160H180v160Zm220 220h160v-160H400v160Zm0 220h160v-160H400v160ZM180-400h160v-160H180v160Zm440 0h160v-160H620v160ZM180-180h160v-160H180v160Zm440 0h160v-160H620v160Z\"/>\n",
              "  </svg>\n",
              "    </button>\n",
              "\n",
              "  <style>\n",
              "    .colab-df-container {\n",
              "      display:flex;\n",
              "      gap: 12px;\n",
              "    }\n",
              "\n",
              "    .colab-df-convert {\n",
              "      background-color: #E8F0FE;\n",
              "      border: none;\n",
              "      border-radius: 50%;\n",
              "      cursor: pointer;\n",
              "      display: none;\n",
              "      fill: #1967D2;\n",
              "      height: 32px;\n",
              "      padding: 0 0 0 0;\n",
              "      width: 32px;\n",
              "    }\n",
              "\n",
              "    .colab-df-convert:hover {\n",
              "      background-color: #E2EBFA;\n",
              "      box-shadow: 0px 1px 2px rgba(60, 64, 67, 0.3), 0px 1px 3px 1px rgba(60, 64, 67, 0.15);\n",
              "      fill: #174EA6;\n",
              "    }\n",
              "\n",
              "    .colab-df-buttons div {\n",
              "      margin-bottom: 4px;\n",
              "    }\n",
              "\n",
              "    [theme=dark] .colab-df-convert {\n",
              "      background-color: #3B4455;\n",
              "      fill: #D2E3FC;\n",
              "    }\n",
              "\n",
              "    [theme=dark] .colab-df-convert:hover {\n",
              "      background-color: #434B5C;\n",
              "      box-shadow: 0px 1px 3px 1px rgba(0, 0, 0, 0.15);\n",
              "      filter: drop-shadow(0px 1px 2px rgba(0, 0, 0, 0.3));\n",
              "      fill: #FFFFFF;\n",
              "    }\n",
              "  </style>\n",
              "\n",
              "    <script>\n",
              "      const buttonEl =\n",
              "        document.querySelector('#df-3cbd40dd-1902-4805-be81-5aea508a930f button.colab-df-convert');\n",
              "      buttonEl.style.display =\n",
              "        google.colab.kernel.accessAllowed ? 'block' : 'none';\n",
              "\n",
              "      async function convertToInteractive(key) {\n",
              "        const element = document.querySelector('#df-3cbd40dd-1902-4805-be81-5aea508a930f');\n",
              "        const dataTable =\n",
              "          await google.colab.kernel.invokeFunction('convertToInteractive',\n",
              "                                                    [key], {});\n",
              "        if (!dataTable) return;\n",
              "\n",
              "        const docLinkHtml = 'Like what you see? Visit the ' +\n",
              "          '<a target=\"_blank\" href=https://colab.research.google.com/notebooks/data_table.ipynb>data table notebook</a>'\n",
              "          + ' to learn more about interactive tables.';\n",
              "        element.innerHTML = '';\n",
              "        dataTable['output_type'] = 'display_data';\n",
              "        await google.colab.output.renderOutput(dataTable, element);\n",
              "        const docLink = document.createElement('div');\n",
              "        docLink.innerHTML = docLinkHtml;\n",
              "        element.appendChild(docLink);\n",
              "      }\n",
              "    </script>\n",
              "  </div>\n",
              "\n",
              "\n",
              "<div id=\"df-f75aae60-0b97-490b-aea7-22add4b06ce9\">\n",
              "  <button class=\"colab-df-quickchart\" onclick=\"quickchart('df-f75aae60-0b97-490b-aea7-22add4b06ce9')\"\n",
              "            title=\"Suggest charts.\"\n",
              "            style=\"display:none;\">\n",
              "\n",
              "<svg xmlns=\"http://www.w3.org/2000/svg\" height=\"24px\"viewBox=\"0 0 24 24\"\n",
              "     width=\"24px\">\n",
              "    <g>\n",
              "        <path d=\"M19 3H5c-1.1 0-2 .9-2 2v14c0 1.1.9 2 2 2h14c1.1 0 2-.9 2-2V5c0-1.1-.9-2-2-2zM9 17H7v-7h2v7zm4 0h-2V7h2v10zm4 0h-2v-4h2v4z\"/>\n",
              "    </g>\n",
              "</svg>\n",
              "  </button>\n",
              "\n",
              "<style>\n",
              "  .colab-df-quickchart {\n",
              "      --bg-color: #E8F0FE;\n",
              "      --fill-color: #1967D2;\n",
              "      --hover-bg-color: #E2EBFA;\n",
              "      --hover-fill-color: #174EA6;\n",
              "      --disabled-fill-color: #AAA;\n",
              "      --disabled-bg-color: #DDD;\n",
              "  }\n",
              "\n",
              "  [theme=dark] .colab-df-quickchart {\n",
              "      --bg-color: #3B4455;\n",
              "      --fill-color: #D2E3FC;\n",
              "      --hover-bg-color: #434B5C;\n",
              "      --hover-fill-color: #FFFFFF;\n",
              "      --disabled-bg-color: #3B4455;\n",
              "      --disabled-fill-color: #666;\n",
              "  }\n",
              "\n",
              "  .colab-df-quickchart {\n",
              "    background-color: var(--bg-color);\n",
              "    border: none;\n",
              "    border-radius: 50%;\n",
              "    cursor: pointer;\n",
              "    display: none;\n",
              "    fill: var(--fill-color);\n",
              "    height: 32px;\n",
              "    padding: 0;\n",
              "    width: 32px;\n",
              "  }\n",
              "\n",
              "  .colab-df-quickchart:hover {\n",
              "    background-color: var(--hover-bg-color);\n",
              "    box-shadow: 0 1px 2px rgba(60, 64, 67, 0.3), 0 1px 3px 1px rgba(60, 64, 67, 0.15);\n",
              "    fill: var(--button-hover-fill-color);\n",
              "  }\n",
              "\n",
              "  .colab-df-quickchart-complete:disabled,\n",
              "  .colab-df-quickchart-complete:disabled:hover {\n",
              "    background-color: var(--disabled-bg-color);\n",
              "    fill: var(--disabled-fill-color);\n",
              "    box-shadow: none;\n",
              "  }\n",
              "\n",
              "  .colab-df-spinner {\n",
              "    border: 2px solid var(--fill-color);\n",
              "    border-color: transparent;\n",
              "    border-bottom-color: var(--fill-color);\n",
              "    animation:\n",
              "      spin 1s steps(1) infinite;\n",
              "  }\n",
              "\n",
              "  @keyframes spin {\n",
              "    0% {\n",
              "      border-color: transparent;\n",
              "      border-bottom-color: var(--fill-color);\n",
              "      border-left-color: var(--fill-color);\n",
              "    }\n",
              "    20% {\n",
              "      border-color: transparent;\n",
              "      border-left-color: var(--fill-color);\n",
              "      border-top-color: var(--fill-color);\n",
              "    }\n",
              "    30% {\n",
              "      border-color: transparent;\n",
              "      border-left-color: var(--fill-color);\n",
              "      border-top-color: var(--fill-color);\n",
              "      border-right-color: var(--fill-color);\n",
              "    }\n",
              "    40% {\n",
              "      border-color: transparent;\n",
              "      border-right-color: var(--fill-color);\n",
              "      border-top-color: var(--fill-color);\n",
              "    }\n",
              "    60% {\n",
              "      border-color: transparent;\n",
              "      border-right-color: var(--fill-color);\n",
              "    }\n",
              "    80% {\n",
              "      border-color: transparent;\n",
              "      border-right-color: var(--fill-color);\n",
              "      border-bottom-color: var(--fill-color);\n",
              "    }\n",
              "    90% {\n",
              "      border-color: transparent;\n",
              "      border-bottom-color: var(--fill-color);\n",
              "    }\n",
              "  }\n",
              "</style>\n",
              "\n",
              "  <script>\n",
              "    async function quickchart(key) {\n",
              "      const quickchartButtonEl =\n",
              "        document.querySelector('#' + key + ' button');\n",
              "      quickchartButtonEl.disabled = true;  // To prevent multiple clicks.\n",
              "      quickchartButtonEl.classList.add('colab-df-spinner');\n",
              "      try {\n",
              "        const charts = await google.colab.kernel.invokeFunction(\n",
              "            'suggestCharts', [key], {});\n",
              "      } catch (error) {\n",
              "        console.error('Error during call to suggestCharts:', error);\n",
              "      }\n",
              "      quickchartButtonEl.classList.remove('colab-df-spinner');\n",
              "      quickchartButtonEl.classList.add('colab-df-quickchart-complete');\n",
              "    }\n",
              "    (() => {\n",
              "      let quickchartButtonEl =\n",
              "        document.querySelector('#df-f75aae60-0b97-490b-aea7-22add4b06ce9 button');\n",
              "      quickchartButtonEl.style.display =\n",
              "        google.colab.kernel.accessAllowed ? 'block' : 'none';\n",
              "    })();\n",
              "  </script>\n",
              "</div>\n",
              "    </div>\n",
              "  </div>\n"
            ]
          },
          "metadata": {},
          "execution_count": 159
        }
      ],
      "source": [
        "#modificação de forma manual\n",
        "traducao_dic = {'Sim': 1,\n",
        "                'Nao': 0}\n",
        "\n",
        "dadosmodificados = dados[['Conjuge', 'Dependentes', 'TelefoneFixo', 'PagamentoOnline', 'Churn']].replace(traducao_dic)\n",
        "dadosmodificados.head()"
      ]
    },
    {
      "cell_type": "code",
      "execution_count": 160,
      "metadata": {
        "id": "0Dc3-8wayQ2R"
      },
      "outputs": [],
      "source": [
        "#transformação pelo get_dummies\n",
        "dummie_dados = pd.get_dummies(dados.drop(['Conjuge', 'Dependentes', 'TelefoneFixo', 'PagamentoOnline', 'Churn'],\n",
        "                axis=1))\n",
        "\n",
        "#junção dos dados trasformados com os que já tinhamos\n",
        "dados_final = pd.concat([dadosmodificados, dummie_dados], axis=1)"
      ]
    },
    {
      "cell_type": "code",
      "source": [
        "dados_final.head()"
      ],
      "metadata": {
        "colab": {
          "base_uri": "https://localhost:8080/",
          "height": 226
        },
        "id": "UmQrjUnh08vu",
        "outputId": "b675b7fb-9156-497b-c97c-cb25f68e8d12"
      },
      "execution_count": 161,
      "outputs": [
        {
          "output_type": "execute_result",
          "data": {
            "text/plain": [
              "   Conjuge  Dependentes  TelefoneFixo  PagamentoOnline  Churn  Maior65Anos  \\\n",
              "0        1            0             0                1      0            0   \n",
              "1        0            0             1                0      0            0   \n",
              "2        0            0             1                1      1            0   \n",
              "3        0            0             0                0      0            0   \n",
              "4        0            0             1                1      1            0   \n",
              "\n",
              "   MesesDeContrato  ContaMensal  VariasLinhasTelefonicas_Nao  \\\n",
              "0                1        29.85                            0   \n",
              "1               34        56.95                            1   \n",
              "2                2        53.85                            1   \n",
              "3               45        42.30                            0   \n",
              "4                2        70.70                            1   \n",
              "\n",
              "   VariasLinhasTelefonicas_SemServicoTelefonico  VariasLinhasTelefonicas_Sim  \\\n",
              "0                                             1                            0   \n",
              "1                                             0                            0   \n",
              "2                                             0                            0   \n",
              "3                                             1                            0   \n",
              "4                                             0                            0   \n",
              "\n",
              "   ServicoDeInternet_DSL  ServicoDeInternet_FibraOptica  \\\n",
              "0                      1                              0   \n",
              "1                      1                              0   \n",
              "2                      1                              0   \n",
              "3                      1                              0   \n",
              "4                      0                              1   \n",
              "\n",
              "   ServicoDeInternet_Nao  SegurancaOnline_Nao  \\\n",
              "0                      0                    1   \n",
              "1                      0                    0   \n",
              "2                      0                    0   \n",
              "3                      0                    0   \n",
              "4                      0                    1   \n",
              "\n",
              "   SegurancaOnline_SemServicoDeInternet  SegurancaOnline_Sim  \\\n",
              "0                                     0                    0   \n",
              "1                                     0                    1   \n",
              "2                                     0                    1   \n",
              "3                                     0                    1   \n",
              "4                                     0                    0   \n",
              "\n",
              "   BackupOnline_Nao  BackupOnline_SemServicoDeInternet  BackupOnline_Sim  \\\n",
              "0                 0                                  0                 1   \n",
              "1                 1                                  0                 0   \n",
              "2                 0                                  0                 1   \n",
              "3                 1                                  0                 0   \n",
              "4                 1                                  0                 0   \n",
              "\n",
              "   SeguroNoDispositivo_Nao  SeguroNoDispositivo_SemServicoDeInternet  \\\n",
              "0                        1                                         0   \n",
              "1                        0                                         0   \n",
              "2                        1                                         0   \n",
              "3                        0                                         0   \n",
              "4                        1                                         0   \n",
              "\n",
              "   SeguroNoDispositivo_Sim  SuporteTecnico_Nao  \\\n",
              "0                        0                   1   \n",
              "1                        1                   1   \n",
              "2                        0                   1   \n",
              "3                        1                   0   \n",
              "4                        0                   1   \n",
              "\n",
              "   SuporteTecnico_SemServicoDeInternet  SuporteTecnico_Sim  TVaCabo_Nao  \\\n",
              "0                                    0                   0            1   \n",
              "1                                    0                   0            1   \n",
              "2                                    0                   0            1   \n",
              "3                                    0                   1            1   \n",
              "4                                    0                   0            1   \n",
              "\n",
              "   TVaCabo_SemServicoDeInternet  TVaCabo_Sim  StreamingDeFilmes_Nao  \\\n",
              "0                             0            0                      1   \n",
              "1                             0            0                      1   \n",
              "2                             0            0                      1   \n",
              "3                             0            0                      1   \n",
              "4                             0            0                      1   \n",
              "\n",
              "   StreamingDeFilmes_SemServicoDeInternet  StreamingDeFilmes_Sim  \\\n",
              "0                                       0                      0   \n",
              "1                                       0                      0   \n",
              "2                                       0                      0   \n",
              "3                                       0                      0   \n",
              "4                                       0                      0   \n",
              "\n",
              "   TipoDeContrato_DoisAnos  TipoDeContrato_Mensalmente  TipoDeContrato_UmAno  \\\n",
              "0                        0                           1                     0   \n",
              "1                        0                           0                     1   \n",
              "2                        0                           1                     0   \n",
              "3                        0                           0                     1   \n",
              "4                        0                           1                     0   \n",
              "\n",
              "   FormaDePagamento_CartaoDeCredito  FormaDePagamento_ChequeDigital  \\\n",
              "0                                 0                               1   \n",
              "1                                 0                               0   \n",
              "2                                 0                               0   \n",
              "3                                 0                               0   \n",
              "4                                 0                               1   \n",
              "\n",
              "   FormaDePagamento_ChequePapel  FormaDePagamento_DebitoEmConta  \n",
              "0                             0                               0  \n",
              "1                             1                               0  \n",
              "2                             1                               0  \n",
              "3                             0                               1  \n",
              "4                             0                               0  "
            ],
            "text/html": [
              "\n",
              "  <div id=\"df-8af79dbd-37ea-4322-b220-cb9793706e7f\" class=\"colab-df-container\">\n",
              "    <div>\n",
              "<style scoped>\n",
              "    .dataframe tbody tr th:only-of-type {\n",
              "        vertical-align: middle;\n",
              "    }\n",
              "\n",
              "    .dataframe tbody tr th {\n",
              "        vertical-align: top;\n",
              "    }\n",
              "\n",
              "    .dataframe thead th {\n",
              "        text-align: right;\n",
              "    }\n",
              "</style>\n",
              "<table border=\"1\" class=\"dataframe\">\n",
              "  <thead>\n",
              "    <tr style=\"text-align: right;\">\n",
              "      <th></th>\n",
              "      <th>Conjuge</th>\n",
              "      <th>Dependentes</th>\n",
              "      <th>TelefoneFixo</th>\n",
              "      <th>PagamentoOnline</th>\n",
              "      <th>Churn</th>\n",
              "      <th>Maior65Anos</th>\n",
              "      <th>MesesDeContrato</th>\n",
              "      <th>ContaMensal</th>\n",
              "      <th>VariasLinhasTelefonicas_Nao</th>\n",
              "      <th>VariasLinhasTelefonicas_SemServicoTelefonico</th>\n",
              "      <th>VariasLinhasTelefonicas_Sim</th>\n",
              "      <th>ServicoDeInternet_DSL</th>\n",
              "      <th>ServicoDeInternet_FibraOptica</th>\n",
              "      <th>ServicoDeInternet_Nao</th>\n",
              "      <th>SegurancaOnline_Nao</th>\n",
              "      <th>SegurancaOnline_SemServicoDeInternet</th>\n",
              "      <th>SegurancaOnline_Sim</th>\n",
              "      <th>BackupOnline_Nao</th>\n",
              "      <th>BackupOnline_SemServicoDeInternet</th>\n",
              "      <th>BackupOnline_Sim</th>\n",
              "      <th>SeguroNoDispositivo_Nao</th>\n",
              "      <th>SeguroNoDispositivo_SemServicoDeInternet</th>\n",
              "      <th>SeguroNoDispositivo_Sim</th>\n",
              "      <th>SuporteTecnico_Nao</th>\n",
              "      <th>SuporteTecnico_SemServicoDeInternet</th>\n",
              "      <th>SuporteTecnico_Sim</th>\n",
              "      <th>TVaCabo_Nao</th>\n",
              "      <th>TVaCabo_SemServicoDeInternet</th>\n",
              "      <th>TVaCabo_Sim</th>\n",
              "      <th>StreamingDeFilmes_Nao</th>\n",
              "      <th>StreamingDeFilmes_SemServicoDeInternet</th>\n",
              "      <th>StreamingDeFilmes_Sim</th>\n",
              "      <th>TipoDeContrato_DoisAnos</th>\n",
              "      <th>TipoDeContrato_Mensalmente</th>\n",
              "      <th>TipoDeContrato_UmAno</th>\n",
              "      <th>FormaDePagamento_CartaoDeCredito</th>\n",
              "      <th>FormaDePagamento_ChequeDigital</th>\n",
              "      <th>FormaDePagamento_ChequePapel</th>\n",
              "      <th>FormaDePagamento_DebitoEmConta</th>\n",
              "    </tr>\n",
              "  </thead>\n",
              "  <tbody>\n",
              "    <tr>\n",
              "      <th>0</th>\n",
              "      <td>1</td>\n",
              "      <td>0</td>\n",
              "      <td>0</td>\n",
              "      <td>1</td>\n",
              "      <td>0</td>\n",
              "      <td>0</td>\n",
              "      <td>1</td>\n",
              "      <td>29.85</td>\n",
              "      <td>0</td>\n",
              "      <td>1</td>\n",
              "      <td>0</td>\n",
              "      <td>1</td>\n",
              "      <td>0</td>\n",
              "      <td>0</td>\n",
              "      <td>1</td>\n",
              "      <td>0</td>\n",
              "      <td>0</td>\n",
              "      <td>0</td>\n",
              "      <td>0</td>\n",
              "      <td>1</td>\n",
              "      <td>1</td>\n",
              "      <td>0</td>\n",
              "      <td>0</td>\n",
              "      <td>1</td>\n",
              "      <td>0</td>\n",
              "      <td>0</td>\n",
              "      <td>1</td>\n",
              "      <td>0</td>\n",
              "      <td>0</td>\n",
              "      <td>1</td>\n",
              "      <td>0</td>\n",
              "      <td>0</td>\n",
              "      <td>0</td>\n",
              "      <td>1</td>\n",
              "      <td>0</td>\n",
              "      <td>0</td>\n",
              "      <td>1</td>\n",
              "      <td>0</td>\n",
              "      <td>0</td>\n",
              "    </tr>\n",
              "    <tr>\n",
              "      <th>1</th>\n",
              "      <td>0</td>\n",
              "      <td>0</td>\n",
              "      <td>1</td>\n",
              "      <td>0</td>\n",
              "      <td>0</td>\n",
              "      <td>0</td>\n",
              "      <td>34</td>\n",
              "      <td>56.95</td>\n",
              "      <td>1</td>\n",
              "      <td>0</td>\n",
              "      <td>0</td>\n",
              "      <td>1</td>\n",
              "      <td>0</td>\n",
              "      <td>0</td>\n",
              "      <td>0</td>\n",
              "      <td>0</td>\n",
              "      <td>1</td>\n",
              "      <td>1</td>\n",
              "      <td>0</td>\n",
              "      <td>0</td>\n",
              "      <td>0</td>\n",
              "      <td>0</td>\n",
              "      <td>1</td>\n",
              "      <td>1</td>\n",
              "      <td>0</td>\n",
              "      <td>0</td>\n",
              "      <td>1</td>\n",
              "      <td>0</td>\n",
              "      <td>0</td>\n",
              "      <td>1</td>\n",
              "      <td>0</td>\n",
              "      <td>0</td>\n",
              "      <td>0</td>\n",
              "      <td>0</td>\n",
              "      <td>1</td>\n",
              "      <td>0</td>\n",
              "      <td>0</td>\n",
              "      <td>1</td>\n",
              "      <td>0</td>\n",
              "    </tr>\n",
              "    <tr>\n",
              "      <th>2</th>\n",
              "      <td>0</td>\n",
              "      <td>0</td>\n",
              "      <td>1</td>\n",
              "      <td>1</td>\n",
              "      <td>1</td>\n",
              "      <td>0</td>\n",
              "      <td>2</td>\n",
              "      <td>53.85</td>\n",
              "      <td>1</td>\n",
              "      <td>0</td>\n",
              "      <td>0</td>\n",
              "      <td>1</td>\n",
              "      <td>0</td>\n",
              "      <td>0</td>\n",
              "      <td>0</td>\n",
              "      <td>0</td>\n",
              "      <td>1</td>\n",
              "      <td>0</td>\n",
              "      <td>0</td>\n",
              "      <td>1</td>\n",
              "      <td>1</td>\n",
              "      <td>0</td>\n",
              "      <td>0</td>\n",
              "      <td>1</td>\n",
              "      <td>0</td>\n",
              "      <td>0</td>\n",
              "      <td>1</td>\n",
              "      <td>0</td>\n",
              "      <td>0</td>\n",
              "      <td>1</td>\n",
              "      <td>0</td>\n",
              "      <td>0</td>\n",
              "      <td>0</td>\n",
              "      <td>1</td>\n",
              "      <td>0</td>\n",
              "      <td>0</td>\n",
              "      <td>0</td>\n",
              "      <td>1</td>\n",
              "      <td>0</td>\n",
              "    </tr>\n",
              "    <tr>\n",
              "      <th>3</th>\n",
              "      <td>0</td>\n",
              "      <td>0</td>\n",
              "      <td>0</td>\n",
              "      <td>0</td>\n",
              "      <td>0</td>\n",
              "      <td>0</td>\n",
              "      <td>45</td>\n",
              "      <td>42.30</td>\n",
              "      <td>0</td>\n",
              "      <td>1</td>\n",
              "      <td>0</td>\n",
              "      <td>1</td>\n",
              "      <td>0</td>\n",
              "      <td>0</td>\n",
              "      <td>0</td>\n",
              "      <td>0</td>\n",
              "      <td>1</td>\n",
              "      <td>1</td>\n",
              "      <td>0</td>\n",
              "      <td>0</td>\n",
              "      <td>0</td>\n",
              "      <td>0</td>\n",
              "      <td>1</td>\n",
              "      <td>0</td>\n",
              "      <td>0</td>\n",
              "      <td>1</td>\n",
              "      <td>1</td>\n",
              "      <td>0</td>\n",
              "      <td>0</td>\n",
              "      <td>1</td>\n",
              "      <td>0</td>\n",
              "      <td>0</td>\n",
              "      <td>0</td>\n",
              "      <td>0</td>\n",
              "      <td>1</td>\n",
              "      <td>0</td>\n",
              "      <td>0</td>\n",
              "      <td>0</td>\n",
              "      <td>1</td>\n",
              "    </tr>\n",
              "    <tr>\n",
              "      <th>4</th>\n",
              "      <td>0</td>\n",
              "      <td>0</td>\n",
              "      <td>1</td>\n",
              "      <td>1</td>\n",
              "      <td>1</td>\n",
              "      <td>0</td>\n",
              "      <td>2</td>\n",
              "      <td>70.70</td>\n",
              "      <td>1</td>\n",
              "      <td>0</td>\n",
              "      <td>0</td>\n",
              "      <td>0</td>\n",
              "      <td>1</td>\n",
              "      <td>0</td>\n",
              "      <td>1</td>\n",
              "      <td>0</td>\n",
              "      <td>0</td>\n",
              "      <td>1</td>\n",
              "      <td>0</td>\n",
              "      <td>0</td>\n",
              "      <td>1</td>\n",
              "      <td>0</td>\n",
              "      <td>0</td>\n",
              "      <td>1</td>\n",
              "      <td>0</td>\n",
              "      <td>0</td>\n",
              "      <td>1</td>\n",
              "      <td>0</td>\n",
              "      <td>0</td>\n",
              "      <td>1</td>\n",
              "      <td>0</td>\n",
              "      <td>0</td>\n",
              "      <td>0</td>\n",
              "      <td>1</td>\n",
              "      <td>0</td>\n",
              "      <td>0</td>\n",
              "      <td>1</td>\n",
              "      <td>0</td>\n",
              "      <td>0</td>\n",
              "    </tr>\n",
              "  </tbody>\n",
              "</table>\n",
              "</div>\n",
              "    <div class=\"colab-df-buttons\">\n",
              "\n",
              "  <div class=\"colab-df-container\">\n",
              "    <button class=\"colab-df-convert\" onclick=\"convertToInteractive('df-8af79dbd-37ea-4322-b220-cb9793706e7f')\"\n",
              "            title=\"Convert this dataframe to an interactive table.\"\n",
              "            style=\"display:none;\">\n",
              "\n",
              "  <svg xmlns=\"http://www.w3.org/2000/svg\" height=\"24px\" viewBox=\"0 -960 960 960\">\n",
              "    <path d=\"M120-120v-720h720v720H120Zm60-500h600v-160H180v160Zm220 220h160v-160H400v160Zm0 220h160v-160H400v160ZM180-400h160v-160H180v160Zm440 0h160v-160H620v160ZM180-180h160v-160H180v160Zm440 0h160v-160H620v160Z\"/>\n",
              "  </svg>\n",
              "    </button>\n",
              "\n",
              "  <style>\n",
              "    .colab-df-container {\n",
              "      display:flex;\n",
              "      gap: 12px;\n",
              "    }\n",
              "\n",
              "    .colab-df-convert {\n",
              "      background-color: #E8F0FE;\n",
              "      border: none;\n",
              "      border-radius: 50%;\n",
              "      cursor: pointer;\n",
              "      display: none;\n",
              "      fill: #1967D2;\n",
              "      height: 32px;\n",
              "      padding: 0 0 0 0;\n",
              "      width: 32px;\n",
              "    }\n",
              "\n",
              "    .colab-df-convert:hover {\n",
              "      background-color: #E2EBFA;\n",
              "      box-shadow: 0px 1px 2px rgba(60, 64, 67, 0.3), 0px 1px 3px 1px rgba(60, 64, 67, 0.15);\n",
              "      fill: #174EA6;\n",
              "    }\n",
              "\n",
              "    .colab-df-buttons div {\n",
              "      margin-bottom: 4px;\n",
              "    }\n",
              "\n",
              "    [theme=dark] .colab-df-convert {\n",
              "      background-color: #3B4455;\n",
              "      fill: #D2E3FC;\n",
              "    }\n",
              "\n",
              "    [theme=dark] .colab-df-convert:hover {\n",
              "      background-color: #434B5C;\n",
              "      box-shadow: 0px 1px 3px 1px rgba(0, 0, 0, 0.15);\n",
              "      filter: drop-shadow(0px 1px 2px rgba(0, 0, 0, 0.3));\n",
              "      fill: #FFFFFF;\n",
              "    }\n",
              "  </style>\n",
              "\n",
              "    <script>\n",
              "      const buttonEl =\n",
              "        document.querySelector('#df-8af79dbd-37ea-4322-b220-cb9793706e7f button.colab-df-convert');\n",
              "      buttonEl.style.display =\n",
              "        google.colab.kernel.accessAllowed ? 'block' : 'none';\n",
              "\n",
              "      async function convertToInteractive(key) {\n",
              "        const element = document.querySelector('#df-8af79dbd-37ea-4322-b220-cb9793706e7f');\n",
              "        const dataTable =\n",
              "          await google.colab.kernel.invokeFunction('convertToInteractive',\n",
              "                                                    [key], {});\n",
              "        if (!dataTable) return;\n",
              "\n",
              "        const docLinkHtml = 'Like what you see? Visit the ' +\n",
              "          '<a target=\"_blank\" href=https://colab.research.google.com/notebooks/data_table.ipynb>data table notebook</a>'\n",
              "          + ' to learn more about interactive tables.';\n",
              "        element.innerHTML = '';\n",
              "        dataTable['output_type'] = 'display_data';\n",
              "        await google.colab.output.renderOutput(dataTable, element);\n",
              "        const docLink = document.createElement('div');\n",
              "        docLink.innerHTML = docLinkHtml;\n",
              "        element.appendChild(docLink);\n",
              "      }\n",
              "    </script>\n",
              "  </div>\n",
              "\n",
              "\n",
              "<div id=\"df-1e0c83d3-068a-4e2a-be43-d9238896c0e0\">\n",
              "  <button class=\"colab-df-quickchart\" onclick=\"quickchart('df-1e0c83d3-068a-4e2a-be43-d9238896c0e0')\"\n",
              "            title=\"Suggest charts.\"\n",
              "            style=\"display:none;\">\n",
              "\n",
              "<svg xmlns=\"http://www.w3.org/2000/svg\" height=\"24px\"viewBox=\"0 0 24 24\"\n",
              "     width=\"24px\">\n",
              "    <g>\n",
              "        <path d=\"M19 3H5c-1.1 0-2 .9-2 2v14c0 1.1.9 2 2 2h14c1.1 0 2-.9 2-2V5c0-1.1-.9-2-2-2zM9 17H7v-7h2v7zm4 0h-2V7h2v10zm4 0h-2v-4h2v4z\"/>\n",
              "    </g>\n",
              "</svg>\n",
              "  </button>\n",
              "\n",
              "<style>\n",
              "  .colab-df-quickchart {\n",
              "      --bg-color: #E8F0FE;\n",
              "      --fill-color: #1967D2;\n",
              "      --hover-bg-color: #E2EBFA;\n",
              "      --hover-fill-color: #174EA6;\n",
              "      --disabled-fill-color: #AAA;\n",
              "      --disabled-bg-color: #DDD;\n",
              "  }\n",
              "\n",
              "  [theme=dark] .colab-df-quickchart {\n",
              "      --bg-color: #3B4455;\n",
              "      --fill-color: #D2E3FC;\n",
              "      --hover-bg-color: #434B5C;\n",
              "      --hover-fill-color: #FFFFFF;\n",
              "      --disabled-bg-color: #3B4455;\n",
              "      --disabled-fill-color: #666;\n",
              "  }\n",
              "\n",
              "  .colab-df-quickchart {\n",
              "    background-color: var(--bg-color);\n",
              "    border: none;\n",
              "    border-radius: 50%;\n",
              "    cursor: pointer;\n",
              "    display: none;\n",
              "    fill: var(--fill-color);\n",
              "    height: 32px;\n",
              "    padding: 0;\n",
              "    width: 32px;\n",
              "  }\n",
              "\n",
              "  .colab-df-quickchart:hover {\n",
              "    background-color: var(--hover-bg-color);\n",
              "    box-shadow: 0 1px 2px rgba(60, 64, 67, 0.3), 0 1px 3px 1px rgba(60, 64, 67, 0.15);\n",
              "    fill: var(--button-hover-fill-color);\n",
              "  }\n",
              "\n",
              "  .colab-df-quickchart-complete:disabled,\n",
              "  .colab-df-quickchart-complete:disabled:hover {\n",
              "    background-color: var(--disabled-bg-color);\n",
              "    fill: var(--disabled-fill-color);\n",
              "    box-shadow: none;\n",
              "  }\n",
              "\n",
              "  .colab-df-spinner {\n",
              "    border: 2px solid var(--fill-color);\n",
              "    border-color: transparent;\n",
              "    border-bottom-color: var(--fill-color);\n",
              "    animation:\n",
              "      spin 1s steps(1) infinite;\n",
              "  }\n",
              "\n",
              "  @keyframes spin {\n",
              "    0% {\n",
              "      border-color: transparent;\n",
              "      border-bottom-color: var(--fill-color);\n",
              "      border-left-color: var(--fill-color);\n",
              "    }\n",
              "    20% {\n",
              "      border-color: transparent;\n",
              "      border-left-color: var(--fill-color);\n",
              "      border-top-color: var(--fill-color);\n",
              "    }\n",
              "    30% {\n",
              "      border-color: transparent;\n",
              "      border-left-color: var(--fill-color);\n",
              "      border-top-color: var(--fill-color);\n",
              "      border-right-color: var(--fill-color);\n",
              "    }\n",
              "    40% {\n",
              "      border-color: transparent;\n",
              "      border-right-color: var(--fill-color);\n",
              "      border-top-color: var(--fill-color);\n",
              "    }\n",
              "    60% {\n",
              "      border-color: transparent;\n",
              "      border-right-color: var(--fill-color);\n",
              "    }\n",
              "    80% {\n",
              "      border-color: transparent;\n",
              "      border-right-color: var(--fill-color);\n",
              "      border-bottom-color: var(--fill-color);\n",
              "    }\n",
              "    90% {\n",
              "      border-color: transparent;\n",
              "      border-bottom-color: var(--fill-color);\n",
              "    }\n",
              "  }\n",
              "</style>\n",
              "\n",
              "  <script>\n",
              "    async function quickchart(key) {\n",
              "      const quickchartButtonEl =\n",
              "        document.querySelector('#' + key + ' button');\n",
              "      quickchartButtonEl.disabled = true;  // To prevent multiple clicks.\n",
              "      quickchartButtonEl.classList.add('colab-df-spinner');\n",
              "      try {\n",
              "        const charts = await google.colab.kernel.invokeFunction(\n",
              "            'suggestCharts', [key], {});\n",
              "      } catch (error) {\n",
              "        console.error('Error during call to suggestCharts:', error);\n",
              "      }\n",
              "      quickchartButtonEl.classList.remove('colab-df-spinner');\n",
              "      quickchartButtonEl.classList.add('colab-df-quickchart-complete');\n",
              "    }\n",
              "    (() => {\n",
              "      let quickchartButtonEl =\n",
              "        document.querySelector('#df-1e0c83d3-068a-4e2a-be43-d9238896c0e0 button');\n",
              "      quickchartButtonEl.style.display =\n",
              "        google.colab.kernel.accessAllowed ? 'block' : 'none';\n",
              "    })();\n",
              "  </script>\n",
              "</div>\n",
              "    </div>\n",
              "  </div>\n"
            ]
          },
          "metadata": {},
          "execution_count": 161
        }
      ]
    },
    {
      "cell_type": "markdown",
      "source": [
        "## 1.4 - Definição Informal\n",
        "\n",
        "(slides)"
      ],
      "metadata": {
        "id": "B1O1hFa-3wr9"
      }
    },
    {
      "cell_type": "markdown",
      "source": [
        "## 1.5 - Definição Formal"
      ],
      "metadata": {
        "id": "D1YLHA3h37s1"
      }
    },
    {
      "cell_type": "markdown",
      "source": [
        "Informações para classificação:\n",
        "\n",
        "$X$ = inputs (dados de entrada)\n",
        "\n",
        "$y$ = outputs (dados de saída)"
      ],
      "metadata": {
        "id": "sSgnt7QWM5rm"
      }
    },
    {
      "cell_type": "code",
      "source": [
        "#DICA\n",
        "pd.set_option('display.max_columns', 39)"
      ],
      "metadata": {
        "id": "k_o0S4UyOqzd"
      },
      "execution_count": 162,
      "outputs": []
    },
    {
      "cell_type": "code",
      "source": [
        "dados_final.head()"
      ],
      "metadata": {
        "id": "oiHVlSC737NE",
        "colab": {
          "base_uri": "https://localhost:8080/",
          "height": 226
        },
        "outputId": "29c04434-97f8-471b-e26d-3eef644b21b5"
      },
      "execution_count": 163,
      "outputs": [
        {
          "output_type": "execute_result",
          "data": {
            "text/plain": [
              "   Conjuge  Dependentes  TelefoneFixo  PagamentoOnline  Churn  Maior65Anos  \\\n",
              "0        1            0             0                1      0            0   \n",
              "1        0            0             1                0      0            0   \n",
              "2        0            0             1                1      1            0   \n",
              "3        0            0             0                0      0            0   \n",
              "4        0            0             1                1      1            0   \n",
              "\n",
              "   MesesDeContrato  ContaMensal  VariasLinhasTelefonicas_Nao  \\\n",
              "0                1        29.85                            0   \n",
              "1               34        56.95                            1   \n",
              "2                2        53.85                            1   \n",
              "3               45        42.30                            0   \n",
              "4                2        70.70                            1   \n",
              "\n",
              "   VariasLinhasTelefonicas_SemServicoTelefonico  VariasLinhasTelefonicas_Sim  \\\n",
              "0                                             1                            0   \n",
              "1                                             0                            0   \n",
              "2                                             0                            0   \n",
              "3                                             1                            0   \n",
              "4                                             0                            0   \n",
              "\n",
              "   ServicoDeInternet_DSL  ServicoDeInternet_FibraOptica  \\\n",
              "0                      1                              0   \n",
              "1                      1                              0   \n",
              "2                      1                              0   \n",
              "3                      1                              0   \n",
              "4                      0                              1   \n",
              "\n",
              "   ServicoDeInternet_Nao  SegurancaOnline_Nao  \\\n",
              "0                      0                    1   \n",
              "1                      0                    0   \n",
              "2                      0                    0   \n",
              "3                      0                    0   \n",
              "4                      0                    1   \n",
              "\n",
              "   SegurancaOnline_SemServicoDeInternet  SegurancaOnline_Sim  \\\n",
              "0                                     0                    0   \n",
              "1                                     0                    1   \n",
              "2                                     0                    1   \n",
              "3                                     0                    1   \n",
              "4                                     0                    0   \n",
              "\n",
              "   BackupOnline_Nao  BackupOnline_SemServicoDeInternet  BackupOnline_Sim  \\\n",
              "0                 0                                  0                 1   \n",
              "1                 1                                  0                 0   \n",
              "2                 0                                  0                 1   \n",
              "3                 1                                  0                 0   \n",
              "4                 1                                  0                 0   \n",
              "\n",
              "   SeguroNoDispositivo_Nao  SeguroNoDispositivo_SemServicoDeInternet  \\\n",
              "0                        1                                         0   \n",
              "1                        0                                         0   \n",
              "2                        1                                         0   \n",
              "3                        0                                         0   \n",
              "4                        1                                         0   \n",
              "\n",
              "   SeguroNoDispositivo_Sim  SuporteTecnico_Nao  \\\n",
              "0                        0                   1   \n",
              "1                        1                   1   \n",
              "2                        0                   1   \n",
              "3                        1                   0   \n",
              "4                        0                   1   \n",
              "\n",
              "   SuporteTecnico_SemServicoDeInternet  SuporteTecnico_Sim  TVaCabo_Nao  \\\n",
              "0                                    0                   0            1   \n",
              "1                                    0                   0            1   \n",
              "2                                    0                   0            1   \n",
              "3                                    0                   1            1   \n",
              "4                                    0                   0            1   \n",
              "\n",
              "   TVaCabo_SemServicoDeInternet  TVaCabo_Sim  StreamingDeFilmes_Nao  \\\n",
              "0                             0            0                      1   \n",
              "1                             0            0                      1   \n",
              "2                             0            0                      1   \n",
              "3                             0            0                      1   \n",
              "4                             0            0                      1   \n",
              "\n",
              "   StreamingDeFilmes_SemServicoDeInternet  StreamingDeFilmes_Sim  \\\n",
              "0                                       0                      0   \n",
              "1                                       0                      0   \n",
              "2                                       0                      0   \n",
              "3                                       0                      0   \n",
              "4                                       0                      0   \n",
              "\n",
              "   TipoDeContrato_DoisAnos  TipoDeContrato_Mensalmente  TipoDeContrato_UmAno  \\\n",
              "0                        0                           1                     0   \n",
              "1                        0                           0                     1   \n",
              "2                        0                           1                     0   \n",
              "3                        0                           0                     1   \n",
              "4                        0                           1                     0   \n",
              "\n",
              "   FormaDePagamento_CartaoDeCredito  FormaDePagamento_ChequeDigital  \\\n",
              "0                                 0                               1   \n",
              "1                                 0                               0   \n",
              "2                                 0                               0   \n",
              "3                                 0                               0   \n",
              "4                                 0                               1   \n",
              "\n",
              "   FormaDePagamento_ChequePapel  FormaDePagamento_DebitoEmConta  \n",
              "0                             0                               0  \n",
              "1                             1                               0  \n",
              "2                             1                               0  \n",
              "3                             0                               1  \n",
              "4                             0                               0  "
            ],
            "text/html": [
              "\n",
              "  <div id=\"df-21e760c0-1403-4069-b351-c49c6b0ce10a\" class=\"colab-df-container\">\n",
              "    <div>\n",
              "<style scoped>\n",
              "    .dataframe tbody tr th:only-of-type {\n",
              "        vertical-align: middle;\n",
              "    }\n",
              "\n",
              "    .dataframe tbody tr th {\n",
              "        vertical-align: top;\n",
              "    }\n",
              "\n",
              "    .dataframe thead th {\n",
              "        text-align: right;\n",
              "    }\n",
              "</style>\n",
              "<table border=\"1\" class=\"dataframe\">\n",
              "  <thead>\n",
              "    <tr style=\"text-align: right;\">\n",
              "      <th></th>\n",
              "      <th>Conjuge</th>\n",
              "      <th>Dependentes</th>\n",
              "      <th>TelefoneFixo</th>\n",
              "      <th>PagamentoOnline</th>\n",
              "      <th>Churn</th>\n",
              "      <th>Maior65Anos</th>\n",
              "      <th>MesesDeContrato</th>\n",
              "      <th>ContaMensal</th>\n",
              "      <th>VariasLinhasTelefonicas_Nao</th>\n",
              "      <th>VariasLinhasTelefonicas_SemServicoTelefonico</th>\n",
              "      <th>VariasLinhasTelefonicas_Sim</th>\n",
              "      <th>ServicoDeInternet_DSL</th>\n",
              "      <th>ServicoDeInternet_FibraOptica</th>\n",
              "      <th>ServicoDeInternet_Nao</th>\n",
              "      <th>SegurancaOnline_Nao</th>\n",
              "      <th>SegurancaOnline_SemServicoDeInternet</th>\n",
              "      <th>SegurancaOnline_Sim</th>\n",
              "      <th>BackupOnline_Nao</th>\n",
              "      <th>BackupOnline_SemServicoDeInternet</th>\n",
              "      <th>BackupOnline_Sim</th>\n",
              "      <th>SeguroNoDispositivo_Nao</th>\n",
              "      <th>SeguroNoDispositivo_SemServicoDeInternet</th>\n",
              "      <th>SeguroNoDispositivo_Sim</th>\n",
              "      <th>SuporteTecnico_Nao</th>\n",
              "      <th>SuporteTecnico_SemServicoDeInternet</th>\n",
              "      <th>SuporteTecnico_Sim</th>\n",
              "      <th>TVaCabo_Nao</th>\n",
              "      <th>TVaCabo_SemServicoDeInternet</th>\n",
              "      <th>TVaCabo_Sim</th>\n",
              "      <th>StreamingDeFilmes_Nao</th>\n",
              "      <th>StreamingDeFilmes_SemServicoDeInternet</th>\n",
              "      <th>StreamingDeFilmes_Sim</th>\n",
              "      <th>TipoDeContrato_DoisAnos</th>\n",
              "      <th>TipoDeContrato_Mensalmente</th>\n",
              "      <th>TipoDeContrato_UmAno</th>\n",
              "      <th>FormaDePagamento_CartaoDeCredito</th>\n",
              "      <th>FormaDePagamento_ChequeDigital</th>\n",
              "      <th>FormaDePagamento_ChequePapel</th>\n",
              "      <th>FormaDePagamento_DebitoEmConta</th>\n",
              "    </tr>\n",
              "  </thead>\n",
              "  <tbody>\n",
              "    <tr>\n",
              "      <th>0</th>\n",
              "      <td>1</td>\n",
              "      <td>0</td>\n",
              "      <td>0</td>\n",
              "      <td>1</td>\n",
              "      <td>0</td>\n",
              "      <td>0</td>\n",
              "      <td>1</td>\n",
              "      <td>29.85</td>\n",
              "      <td>0</td>\n",
              "      <td>1</td>\n",
              "      <td>0</td>\n",
              "      <td>1</td>\n",
              "      <td>0</td>\n",
              "      <td>0</td>\n",
              "      <td>1</td>\n",
              "      <td>0</td>\n",
              "      <td>0</td>\n",
              "      <td>0</td>\n",
              "      <td>0</td>\n",
              "      <td>1</td>\n",
              "      <td>1</td>\n",
              "      <td>0</td>\n",
              "      <td>0</td>\n",
              "      <td>1</td>\n",
              "      <td>0</td>\n",
              "      <td>0</td>\n",
              "      <td>1</td>\n",
              "      <td>0</td>\n",
              "      <td>0</td>\n",
              "      <td>1</td>\n",
              "      <td>0</td>\n",
              "      <td>0</td>\n",
              "      <td>0</td>\n",
              "      <td>1</td>\n",
              "      <td>0</td>\n",
              "      <td>0</td>\n",
              "      <td>1</td>\n",
              "      <td>0</td>\n",
              "      <td>0</td>\n",
              "    </tr>\n",
              "    <tr>\n",
              "      <th>1</th>\n",
              "      <td>0</td>\n",
              "      <td>0</td>\n",
              "      <td>1</td>\n",
              "      <td>0</td>\n",
              "      <td>0</td>\n",
              "      <td>0</td>\n",
              "      <td>34</td>\n",
              "      <td>56.95</td>\n",
              "      <td>1</td>\n",
              "      <td>0</td>\n",
              "      <td>0</td>\n",
              "      <td>1</td>\n",
              "      <td>0</td>\n",
              "      <td>0</td>\n",
              "      <td>0</td>\n",
              "      <td>0</td>\n",
              "      <td>1</td>\n",
              "      <td>1</td>\n",
              "      <td>0</td>\n",
              "      <td>0</td>\n",
              "      <td>0</td>\n",
              "      <td>0</td>\n",
              "      <td>1</td>\n",
              "      <td>1</td>\n",
              "      <td>0</td>\n",
              "      <td>0</td>\n",
              "      <td>1</td>\n",
              "      <td>0</td>\n",
              "      <td>0</td>\n",
              "      <td>1</td>\n",
              "      <td>0</td>\n",
              "      <td>0</td>\n",
              "      <td>0</td>\n",
              "      <td>0</td>\n",
              "      <td>1</td>\n",
              "      <td>0</td>\n",
              "      <td>0</td>\n",
              "      <td>1</td>\n",
              "      <td>0</td>\n",
              "    </tr>\n",
              "    <tr>\n",
              "      <th>2</th>\n",
              "      <td>0</td>\n",
              "      <td>0</td>\n",
              "      <td>1</td>\n",
              "      <td>1</td>\n",
              "      <td>1</td>\n",
              "      <td>0</td>\n",
              "      <td>2</td>\n",
              "      <td>53.85</td>\n",
              "      <td>1</td>\n",
              "      <td>0</td>\n",
              "      <td>0</td>\n",
              "      <td>1</td>\n",
              "      <td>0</td>\n",
              "      <td>0</td>\n",
              "      <td>0</td>\n",
              "      <td>0</td>\n",
              "      <td>1</td>\n",
              "      <td>0</td>\n",
              "      <td>0</td>\n",
              "      <td>1</td>\n",
              "      <td>1</td>\n",
              "      <td>0</td>\n",
              "      <td>0</td>\n",
              "      <td>1</td>\n",
              "      <td>0</td>\n",
              "      <td>0</td>\n",
              "      <td>1</td>\n",
              "      <td>0</td>\n",
              "      <td>0</td>\n",
              "      <td>1</td>\n",
              "      <td>0</td>\n",
              "      <td>0</td>\n",
              "      <td>0</td>\n",
              "      <td>1</td>\n",
              "      <td>0</td>\n",
              "      <td>0</td>\n",
              "      <td>0</td>\n",
              "      <td>1</td>\n",
              "      <td>0</td>\n",
              "    </tr>\n",
              "    <tr>\n",
              "      <th>3</th>\n",
              "      <td>0</td>\n",
              "      <td>0</td>\n",
              "      <td>0</td>\n",
              "      <td>0</td>\n",
              "      <td>0</td>\n",
              "      <td>0</td>\n",
              "      <td>45</td>\n",
              "      <td>42.30</td>\n",
              "      <td>0</td>\n",
              "      <td>1</td>\n",
              "      <td>0</td>\n",
              "      <td>1</td>\n",
              "      <td>0</td>\n",
              "      <td>0</td>\n",
              "      <td>0</td>\n",
              "      <td>0</td>\n",
              "      <td>1</td>\n",
              "      <td>1</td>\n",
              "      <td>0</td>\n",
              "      <td>0</td>\n",
              "      <td>0</td>\n",
              "      <td>0</td>\n",
              "      <td>1</td>\n",
              "      <td>0</td>\n",
              "      <td>0</td>\n",
              "      <td>1</td>\n",
              "      <td>1</td>\n",
              "      <td>0</td>\n",
              "      <td>0</td>\n",
              "      <td>1</td>\n",
              "      <td>0</td>\n",
              "      <td>0</td>\n",
              "      <td>0</td>\n",
              "      <td>0</td>\n",
              "      <td>1</td>\n",
              "      <td>0</td>\n",
              "      <td>0</td>\n",
              "      <td>0</td>\n",
              "      <td>1</td>\n",
              "    </tr>\n",
              "    <tr>\n",
              "      <th>4</th>\n",
              "      <td>0</td>\n",
              "      <td>0</td>\n",
              "      <td>1</td>\n",
              "      <td>1</td>\n",
              "      <td>1</td>\n",
              "      <td>0</td>\n",
              "      <td>2</td>\n",
              "      <td>70.70</td>\n",
              "      <td>1</td>\n",
              "      <td>0</td>\n",
              "      <td>0</td>\n",
              "      <td>0</td>\n",
              "      <td>1</td>\n",
              "      <td>0</td>\n",
              "      <td>1</td>\n",
              "      <td>0</td>\n",
              "      <td>0</td>\n",
              "      <td>1</td>\n",
              "      <td>0</td>\n",
              "      <td>0</td>\n",
              "      <td>1</td>\n",
              "      <td>0</td>\n",
              "      <td>0</td>\n",
              "      <td>1</td>\n",
              "      <td>0</td>\n",
              "      <td>0</td>\n",
              "      <td>1</td>\n",
              "      <td>0</td>\n",
              "      <td>0</td>\n",
              "      <td>1</td>\n",
              "      <td>0</td>\n",
              "      <td>0</td>\n",
              "      <td>0</td>\n",
              "      <td>1</td>\n",
              "      <td>0</td>\n",
              "      <td>0</td>\n",
              "      <td>1</td>\n",
              "      <td>0</td>\n",
              "      <td>0</td>\n",
              "    </tr>\n",
              "  </tbody>\n",
              "</table>\n",
              "</div>\n",
              "    <div class=\"colab-df-buttons\">\n",
              "\n",
              "  <div class=\"colab-df-container\">\n",
              "    <button class=\"colab-df-convert\" onclick=\"convertToInteractive('df-21e760c0-1403-4069-b351-c49c6b0ce10a')\"\n",
              "            title=\"Convert this dataframe to an interactive table.\"\n",
              "            style=\"display:none;\">\n",
              "\n",
              "  <svg xmlns=\"http://www.w3.org/2000/svg\" height=\"24px\" viewBox=\"0 -960 960 960\">\n",
              "    <path d=\"M120-120v-720h720v720H120Zm60-500h600v-160H180v160Zm220 220h160v-160H400v160Zm0 220h160v-160H400v160ZM180-400h160v-160H180v160Zm440 0h160v-160H620v160ZM180-180h160v-160H180v160Zm440 0h160v-160H620v160Z\"/>\n",
              "  </svg>\n",
              "    </button>\n",
              "\n",
              "  <style>\n",
              "    .colab-df-container {\n",
              "      display:flex;\n",
              "      gap: 12px;\n",
              "    }\n",
              "\n",
              "    .colab-df-convert {\n",
              "      background-color: #E8F0FE;\n",
              "      border: none;\n",
              "      border-radius: 50%;\n",
              "      cursor: pointer;\n",
              "      display: none;\n",
              "      fill: #1967D2;\n",
              "      height: 32px;\n",
              "      padding: 0 0 0 0;\n",
              "      width: 32px;\n",
              "    }\n",
              "\n",
              "    .colab-df-convert:hover {\n",
              "      background-color: #E2EBFA;\n",
              "      box-shadow: 0px 1px 2px rgba(60, 64, 67, 0.3), 0px 1px 3px 1px rgba(60, 64, 67, 0.15);\n",
              "      fill: #174EA6;\n",
              "    }\n",
              "\n",
              "    .colab-df-buttons div {\n",
              "      margin-bottom: 4px;\n",
              "    }\n",
              "\n",
              "    [theme=dark] .colab-df-convert {\n",
              "      background-color: #3B4455;\n",
              "      fill: #D2E3FC;\n",
              "    }\n",
              "\n",
              "    [theme=dark] .colab-df-convert:hover {\n",
              "      background-color: #434B5C;\n",
              "      box-shadow: 0px 1px 3px 1px rgba(0, 0, 0, 0.15);\n",
              "      filter: drop-shadow(0px 1px 2px rgba(0, 0, 0, 0.3));\n",
              "      fill: #FFFFFF;\n",
              "    }\n",
              "  </style>\n",
              "\n",
              "    <script>\n",
              "      const buttonEl =\n",
              "        document.querySelector('#df-21e760c0-1403-4069-b351-c49c6b0ce10a button.colab-df-convert');\n",
              "      buttonEl.style.display =\n",
              "        google.colab.kernel.accessAllowed ? 'block' : 'none';\n",
              "\n",
              "      async function convertToInteractive(key) {\n",
              "        const element = document.querySelector('#df-21e760c0-1403-4069-b351-c49c6b0ce10a');\n",
              "        const dataTable =\n",
              "          await google.colab.kernel.invokeFunction('convertToInteractive',\n",
              "                                                    [key], {});\n",
              "        if (!dataTable) return;\n",
              "\n",
              "        const docLinkHtml = 'Like what you see? Visit the ' +\n",
              "          '<a target=\"_blank\" href=https://colab.research.google.com/notebooks/data_table.ipynb>data table notebook</a>'\n",
              "          + ' to learn more about interactive tables.';\n",
              "        element.innerHTML = '';\n",
              "        dataTable['output_type'] = 'display_data';\n",
              "        await google.colab.output.renderOutput(dataTable, element);\n",
              "        const docLink = document.createElement('div');\n",
              "        docLink.innerHTML = docLinkHtml;\n",
              "        element.appendChild(docLink);\n",
              "      }\n",
              "    </script>\n",
              "  </div>\n",
              "\n",
              "\n",
              "<div id=\"df-ca7bb157-9ea1-4d6b-ac50-6cfa49b86ca0\">\n",
              "  <button class=\"colab-df-quickchart\" onclick=\"quickchart('df-ca7bb157-9ea1-4d6b-ac50-6cfa49b86ca0')\"\n",
              "            title=\"Suggest charts.\"\n",
              "            style=\"display:none;\">\n",
              "\n",
              "<svg xmlns=\"http://www.w3.org/2000/svg\" height=\"24px\"viewBox=\"0 0 24 24\"\n",
              "     width=\"24px\">\n",
              "    <g>\n",
              "        <path d=\"M19 3H5c-1.1 0-2 .9-2 2v14c0 1.1.9 2 2 2h14c1.1 0 2-.9 2-2V5c0-1.1-.9-2-2-2zM9 17H7v-7h2v7zm4 0h-2V7h2v10zm4 0h-2v-4h2v4z\"/>\n",
              "    </g>\n",
              "</svg>\n",
              "  </button>\n",
              "\n",
              "<style>\n",
              "  .colab-df-quickchart {\n",
              "      --bg-color: #E8F0FE;\n",
              "      --fill-color: #1967D2;\n",
              "      --hover-bg-color: #E2EBFA;\n",
              "      --hover-fill-color: #174EA6;\n",
              "      --disabled-fill-color: #AAA;\n",
              "      --disabled-bg-color: #DDD;\n",
              "  }\n",
              "\n",
              "  [theme=dark] .colab-df-quickchart {\n",
              "      --bg-color: #3B4455;\n",
              "      --fill-color: #D2E3FC;\n",
              "      --hover-bg-color: #434B5C;\n",
              "      --hover-fill-color: #FFFFFF;\n",
              "      --disabled-bg-color: #3B4455;\n",
              "      --disabled-fill-color: #666;\n",
              "  }\n",
              "\n",
              "  .colab-df-quickchart {\n",
              "    background-color: var(--bg-color);\n",
              "    border: none;\n",
              "    border-radius: 50%;\n",
              "    cursor: pointer;\n",
              "    display: none;\n",
              "    fill: var(--fill-color);\n",
              "    height: 32px;\n",
              "    padding: 0;\n",
              "    width: 32px;\n",
              "  }\n",
              "\n",
              "  .colab-df-quickchart:hover {\n",
              "    background-color: var(--hover-bg-color);\n",
              "    box-shadow: 0 1px 2px rgba(60, 64, 67, 0.3), 0 1px 3px 1px rgba(60, 64, 67, 0.15);\n",
              "    fill: var(--button-hover-fill-color);\n",
              "  }\n",
              "\n",
              "  .colab-df-quickchart-complete:disabled,\n",
              "  .colab-df-quickchart-complete:disabled:hover {\n",
              "    background-color: var(--disabled-bg-color);\n",
              "    fill: var(--disabled-fill-color);\n",
              "    box-shadow: none;\n",
              "  }\n",
              "\n",
              "  .colab-df-spinner {\n",
              "    border: 2px solid var(--fill-color);\n",
              "    border-color: transparent;\n",
              "    border-bottom-color: var(--fill-color);\n",
              "    animation:\n",
              "      spin 1s steps(1) infinite;\n",
              "  }\n",
              "\n",
              "  @keyframes spin {\n",
              "    0% {\n",
              "      border-color: transparent;\n",
              "      border-bottom-color: var(--fill-color);\n",
              "      border-left-color: var(--fill-color);\n",
              "    }\n",
              "    20% {\n",
              "      border-color: transparent;\n",
              "      border-left-color: var(--fill-color);\n",
              "      border-top-color: var(--fill-color);\n",
              "    }\n",
              "    30% {\n",
              "      border-color: transparent;\n",
              "      border-left-color: var(--fill-color);\n",
              "      border-top-color: var(--fill-color);\n",
              "      border-right-color: var(--fill-color);\n",
              "    }\n",
              "    40% {\n",
              "      border-color: transparent;\n",
              "      border-right-color: var(--fill-color);\n",
              "      border-top-color: var(--fill-color);\n",
              "    }\n",
              "    60% {\n",
              "      border-color: transparent;\n",
              "      border-right-color: var(--fill-color);\n",
              "    }\n",
              "    80% {\n",
              "      border-color: transparent;\n",
              "      border-right-color: var(--fill-color);\n",
              "      border-bottom-color: var(--fill-color);\n",
              "    }\n",
              "    90% {\n",
              "      border-color: transparent;\n",
              "      border-bottom-color: var(--fill-color);\n",
              "    }\n",
              "  }\n",
              "</style>\n",
              "\n",
              "  <script>\n",
              "    async function quickchart(key) {\n",
              "      const quickchartButtonEl =\n",
              "        document.querySelector('#' + key + ' button');\n",
              "      quickchartButtonEl.disabled = true;  // To prevent multiple clicks.\n",
              "      quickchartButtonEl.classList.add('colab-df-spinner');\n",
              "      try {\n",
              "        const charts = await google.colab.kernel.invokeFunction(\n",
              "            'suggestCharts', [key], {});\n",
              "      } catch (error) {\n",
              "        console.error('Error during call to suggestCharts:', error);\n",
              "      }\n",
              "      quickchartButtonEl.classList.remove('colab-df-spinner');\n",
              "      quickchartButtonEl.classList.add('colab-df-quickchart-complete');\n",
              "    }\n",
              "    (() => {\n",
              "      let quickchartButtonEl =\n",
              "        document.querySelector('#df-ca7bb157-9ea1-4d6b-ac50-6cfa49b86ca0 button');\n",
              "      quickchartButtonEl.style.display =\n",
              "        google.colab.kernel.accessAllowed ? 'block' : 'none';\n",
              "    })();\n",
              "  </script>\n",
              "</div>\n",
              "    </div>\n",
              "  </div>\n"
            ]
          },
          "metadata": {},
          "execution_count": 163
        }
      ]
    },
    {
      "cell_type": "markdown",
      "source": [
        "\n",
        "$y_i$ = $f(x_i)$"
      ],
      "metadata": {
        "id": "mlxxn4VYTQnV"
      }
    },
    {
      "cell_type": "code",
      "source": [
        "Xmaria = [[0,0,1,1,0,0,39.90,1,0,0,0,1,0,1,0,0,0,0,1,1,1,0,0,1,0,1,0,0,0,0,1,0,0,1,0,0,0,1]]"
      ],
      "metadata": {
        "id": "JVqSH1yp4Cq2"
      },
      "execution_count": 164,
      "outputs": []
    },
    {
      "cell_type": "code",
      "source": [
        "#ymaria = ?"
      ],
      "metadata": {
        "id": "1Btl3Wct4CoN"
      },
      "execution_count": 165,
      "outputs": []
    },
    {
      "cell_type": "markdown",
      "source": [
        "Novos pares de informações = ($Xmaria$, $ymaria$)"
      ],
      "metadata": {
        "id": "n4nyxwPFTncE"
      }
    },
    {
      "cell_type": "markdown",
      "source": [
        "## Balanceamento dos dados"
      ],
      "metadata": {
        "id": "zCcuXt0FZfNe"
      }
    },
    {
      "cell_type": "code",
      "source": [
        "#variável target está desbalanceada\n",
        "import seaborn as sns\n",
        "%matplotlib inline\n",
        "ax = sns.countplot(x='Churn', data=dados_final)"
      ],
      "metadata": {
        "id": "PZ98-642QERQ",
        "outputId": "8f34a464-4561-4919-cbcc-673109b3f6a4",
        "colab": {
          "base_uri": "https://localhost:8080/",
          "height": 0
        }
      },
      "execution_count": 166,
      "outputs": [
        {
          "output_type": "display_data",
          "data": {
            "text/plain": [
              "<Figure size 640x480 with 1 Axes>"
            ],
            "image/png": "[encoded data removed]"
          },
          "metadata": {}
        }
      ]
    },
    {
      "cell_type": "code",
      "source": [
        "dados_final.Churn.value_counts()"
      ],
      "metadata": {
        "colab": {
          "base_uri": "https://localhost:8080/"
        },
        "id": "tDmNwxUGQt0U",
        "outputId": "6b546170-091c-45fc-9174-02e4486bd4e2"
      },
      "execution_count": 167,
      "outputs": [
        {
          "output_type": "execute_result",
          "data": {
            "text/plain": [
              "0    5174\n",
              "1    1869\n",
              "Name: Churn, dtype: int64"
            ]
          },
          "metadata": {},
          "execution_count": 167
        }
      ]
    },
    {
      "cell_type": "code",
      "source": [
        "#biblioteca para balancear os dados utilizando over_sampling\n",
        "from imblearn.over_sampling import SMOTE"
      ],
      "metadata": {
        "id": "TcFY4SXuZyIO"
      },
      "execution_count": 168,
      "outputs": []
    },
    {
      "cell_type": "code",
      "source": [
        "#dividindo os dados em caracteristicas e target\n",
        "X = dados_final.drop('Churn', axis = 1)\n",
        "y = dados_final['Churn']"
      ],
      "metadata": {
        "id": "0-I2aDVhQUdu"
      },
      "execution_count": 169,
      "outputs": []
    },
    {
      "cell_type": "code",
      "source": [
        "smt = SMOTE(random_state=123)\n",
        "X, y = smt.fit_resample(X, y)"
      ],
      "metadata": {
        "id": "5lIY03boZyBN"
      },
      "execution_count": 170,
      "outputs": []
    },
    {
      "cell_type": "code",
      "source": [
        "#junção dos dados balanceados\n",
        "dados_final = pd.concat([X, y], axis=1)"
      ],
      "metadata": {
        "id": "bnlqzLVUZl0u"
      },
      "execution_count": 171,
      "outputs": []
    },
    {
      "cell_type": "code",
      "source": [
        "#verificação 1 - junção dos dados\n",
        "dados_final.head(2)"
      ],
      "metadata": {
        "colab": {
          "base_uri": "https://localhost:8080/",
          "height": 0
        },
        "id": "GQj3bEEOZ42e",
        "outputId": "06634752-fbc8-4865-abb0-8860de405cb9"
      },
      "execution_count": 172,
      "outputs": [
        {
          "output_type": "execute_result",
          "data": {
            "text/plain": [
              "   Conjuge  Dependentes  TelefoneFixo  PagamentoOnline  Maior65Anos  \\\n",
              "0        1            0             0                1            0   \n",
              "1        0            0             1                0            0   \n",
              "\n",
              "   MesesDeContrato  ContaMensal  VariasLinhasTelefonicas_Nao  \\\n",
              "0                1        29.85                            0   \n",
              "1               34        56.95                            1   \n",
              "\n",
              "   VariasLinhasTelefonicas_SemServicoTelefonico  VariasLinhasTelefonicas_Sim  \\\n",
              "0                                             1                            0   \n",
              "1                                             0                            0   \n",
              "\n",
              "   ServicoDeInternet_DSL  ServicoDeInternet_FibraOptica  \\\n",
              "0                      1                              0   \n",
              "1                      1                              0   \n",
              "\n",
              "   ServicoDeInternet_Nao  SegurancaOnline_Nao  \\\n",
              "0                      0                    1   \n",
              "1                      0                    0   \n",
              "\n",
              "   SegurancaOnline_SemServicoDeInternet  SegurancaOnline_Sim  \\\n",
              "0                                     0                    0   \n",
              "1                                     0                    1   \n",
              "\n",
              "   BackupOnline_Nao  BackupOnline_SemServicoDeInternet  BackupOnline_Sim  \\\n",
              "0                 0                                  0                 1   \n",
              "1                 1                                  0                 0   \n",
              "\n",
              "   SeguroNoDispositivo_Nao  SeguroNoDispositivo_SemServicoDeInternet  \\\n",
              "0                        1                                         0   \n",
              "1                        0                                         0   \n",
              "\n",
              "   SeguroNoDispositivo_Sim  SuporteTecnico_Nao  \\\n",
              "0                        0                   1   \n",
              "1                        1                   1   \n",
              "\n",
              "   SuporteTecnico_SemServicoDeInternet  SuporteTecnico_Sim  TVaCabo_Nao  \\\n",
              "0                                    0                   0            1   \n",
              "1                                    0                   0            1   \n",
              "\n",
              "   TVaCabo_SemServicoDeInternet  TVaCabo_Sim  StreamingDeFilmes_Nao  \\\n",
              "0                             0            0                      1   \n",
              "1                             0            0                      1   \n",
              "\n",
              "   StreamingDeFilmes_SemServicoDeInternet  StreamingDeFilmes_Sim  \\\n",
              "0                                       0                      0   \n",
              "1                                       0                      0   \n",
              "\n",
              "   TipoDeContrato_DoisAnos  TipoDeContrato_Mensalmente  TipoDeContrato_UmAno  \\\n",
              "0                        0                           1                     0   \n",
              "1                        0                           0                     1   \n",
              "\n",
              "   FormaDePagamento_CartaoDeCredito  FormaDePagamento_ChequeDigital  \\\n",
              "0                                 0                               1   \n",
              "1                                 0                               0   \n",
              "\n",
              "   FormaDePagamento_ChequePapel  FormaDePagamento_DebitoEmConta  Churn  \n",
              "0                             0                               0      0  \n",
              "1                             1                               0      0  "
            ],
            "text/html": [
              "\n",
              "  <div id=\"df-a2c73eb5-1856-4f44-a922-9367b98cd55d\" class=\"colab-df-container\">\n",
              "    <div>\n",
              "<style scoped>\n",
              "    .dataframe tbody tr th:only-of-type {\n",
              "        vertical-align: middle;\n",
              "    }\n",
              "\n",
              "    .dataframe tbody tr th {\n",
              "        vertical-align: top;\n",
              "    }\n",
              "\n",
              "    .dataframe thead th {\n",
              "        text-align: right;\n",
              "    }\n",
              "</style>\n",
              "<table border=\"1\" class=\"dataframe\">\n",
              "  <thead>\n",
              "    <tr style=\"text-align: right;\">\n",
              "      <th></th>\n",
              "      <th>Conjuge</th>\n",
              "      <th>Dependentes</th>\n",
              "      <th>TelefoneFixo</th>\n",
              "      <th>PagamentoOnline</th>\n",
              "      <th>Maior65Anos</th>\n",
              "      <th>MesesDeContrato</th>\n",
              "      <th>ContaMensal</th>\n",
              "      <th>VariasLinhasTelefonicas_Nao</th>\n",
              "      <th>VariasLinhasTelefonicas_SemServicoTelefonico</th>\n",
              "      <th>VariasLinhasTelefonicas_Sim</th>\n",
              "      <th>ServicoDeInternet_DSL</th>\n",
              "      <th>ServicoDeInternet_FibraOptica</th>\n",
              "      <th>ServicoDeInternet_Nao</th>\n",
              "      <th>SegurancaOnline_Nao</th>\n",
              "      <th>SegurancaOnline_SemServicoDeInternet</th>\n",
              "      <th>SegurancaOnline_Sim</th>\n",
              "      <th>BackupOnline_Nao</th>\n",
              "      <th>BackupOnline_SemServicoDeInternet</th>\n",
              "      <th>BackupOnline_Sim</th>\n",
              "      <th>SeguroNoDispositivo_Nao</th>\n",
              "      <th>SeguroNoDispositivo_SemServicoDeInternet</th>\n",
              "      <th>SeguroNoDispositivo_Sim</th>\n",
              "      <th>SuporteTecnico_Nao</th>\n",
              "      <th>SuporteTecnico_SemServicoDeInternet</th>\n",
              "      <th>SuporteTecnico_Sim</th>\n",
              "      <th>TVaCabo_Nao</th>\n",
              "      <th>TVaCabo_SemServicoDeInternet</th>\n",
              "      <th>TVaCabo_Sim</th>\n",
              "      <th>StreamingDeFilmes_Nao</th>\n",
              "      <th>StreamingDeFilmes_SemServicoDeInternet</th>\n",
              "      <th>StreamingDeFilmes_Sim</th>\n",
              "      <th>TipoDeContrato_DoisAnos</th>\n",
              "      <th>TipoDeContrato_Mensalmente</th>\n",
              "      <th>TipoDeContrato_UmAno</th>\n",
              "      <th>FormaDePagamento_CartaoDeCredito</th>\n",
              "      <th>FormaDePagamento_ChequeDigital</th>\n",
              "      <th>FormaDePagamento_ChequePapel</th>\n",
              "      <th>FormaDePagamento_DebitoEmConta</th>\n",
              "      <th>Churn</th>\n",
              "    </tr>\n",
              "  </thead>\n",
              "  <tbody>\n",
              "    <tr>\n",
              "      <th>0</th>\n",
              "      <td>1</td>\n",
              "      <td>0</td>\n",
              "      <td>0</td>\n",
              "      <td>1</td>\n",
              "      <td>0</td>\n",
              "      <td>1</td>\n",
              "      <td>29.85</td>\n",
              "      <td>0</td>\n",
              "      <td>1</td>\n",
              "      <td>0</td>\n",
              "      <td>1</td>\n",
              "      <td>0</td>\n",
              "      <td>0</td>\n",
              "      <td>1</td>\n",
              "      <td>0</td>\n",
              "      <td>0</td>\n",
              "      <td>0</td>\n",
              "      <td>0</td>\n",
              "      <td>1</td>\n",
              "      <td>1</td>\n",
              "      <td>0</td>\n",
              "      <td>0</td>\n",
              "      <td>1</td>\n",
              "      <td>0</td>\n",
              "      <td>0</td>\n",
              "      <td>1</td>\n",
              "      <td>0</td>\n",
              "      <td>0</td>\n",
              "      <td>1</td>\n",
              "      <td>0</td>\n",
              "      <td>0</td>\n",
              "      <td>0</td>\n",
              "      <td>1</td>\n",
              "      <td>0</td>\n",
              "      <td>0</td>\n",
              "      <td>1</td>\n",
              "      <td>0</td>\n",
              "      <td>0</td>\n",
              "      <td>0</td>\n",
              "    </tr>\n",
              "    <tr>\n",
              "      <th>1</th>\n",
              "      <td>0</td>\n",
              "      <td>0</td>\n",
              "      <td>1</td>\n",
              "      <td>0</td>\n",
              "      <td>0</td>\n",
              "      <td>34</td>\n",
              "      <td>56.95</td>\n",
              "      <td>1</td>\n",
              "      <td>0</td>\n",
              "      <td>0</td>\n",
              "      <td>1</td>\n",
              "      <td>0</td>\n",
              "      <td>0</td>\n",
              "      <td>0</td>\n",
              "      <td>0</td>\n",
              "      <td>1</td>\n",
              "      <td>1</td>\n",
              "      <td>0</td>\n",
              "      <td>0</td>\n",
              "      <td>0</td>\n",
              "      <td>0</td>\n",
              "      <td>1</td>\n",
              "      <td>1</td>\n",
              "      <td>0</td>\n",
              "      <td>0</td>\n",
              "      <td>1</td>\n",
              "      <td>0</td>\n",
              "      <td>0</td>\n",
              "      <td>1</td>\n",
              "      <td>0</td>\n",
              "      <td>0</td>\n",
              "      <td>0</td>\n",
              "      <td>0</td>\n",
              "      <td>1</td>\n",
              "      <td>0</td>\n",
              "      <td>0</td>\n",
              "      <td>1</td>\n",
              "      <td>0</td>\n",
              "      <td>0</td>\n",
              "    </tr>\n",
              "  </tbody>\n",
              "</table>\n",
              "</div>\n",
              "    <div class=\"colab-df-buttons\">\n",
              "\n",
              "  <div class=\"colab-df-container\">\n",
              "    <button class=\"colab-df-convert\" onclick=\"convertToInteractive('df-a2c73eb5-1856-4f44-a922-9367b98cd55d')\"\n",
              "            title=\"Convert this dataframe to an interactive table.\"\n",
              "            style=\"display:none;\">\n",
              "\n",
              "  <svg xmlns=\"http://www.w3.org/2000/svg\" height=\"24px\" viewBox=\"0 -960 960 960\">\n",
              "    <path d=\"M120-120v-720h720v720H120Zm60-500h600v-160H180v160Zm220 220h160v-160H400v160Zm0 220h160v-160H400v160ZM180-400h160v-160H180v160Zm440 0h160v-160H620v160ZM180-180h160v-160H180v160Zm440 0h160v-160H620v160Z\"/>\n",
              "  </svg>\n",
              "    </button>\n",
              "\n",
              "  <style>\n",
              "    .colab-df-container {\n",
              "      display:flex;\n",
              "      gap: 12px;\n",
              "    }\n",
              "\n",
              "    .colab-df-convert {\n",
              "      background-color: #E8F0FE;\n",
              "      border: none;\n",
              "      border-radius: 50%;\n",
              "      cursor: pointer;\n",
              "      display: none;\n",
              "      fill: #1967D2;\n",
              "      height: 32px;\n",
              "      padding: 0 0 0 0;\n",
              "      width: 32px;\n",
              "    }\n",
              "\n",
              "    .colab-df-convert:hover {\n",
              "      background-color: #E2EBFA;\n",
              "      box-shadow: 0px 1px 2px rgba(60, 64, 67, 0.3), 0px 1px 3px 1px rgba(60, 64, 67, 0.15);\n",
              "      fill: #174EA6;\n",
              "    }\n",
              "\n",
              "    .colab-df-buttons div {\n",
              "      margin-bottom: 4px;\n",
              "    }\n",
              "\n",
              "    [theme=dark] .colab-df-convert {\n",
              "      background-color: #3B4455;\n",
              "      fill: #D2E3FC;\n",
              "    }\n",
              "\n",
              "    [theme=dark] .colab-df-convert:hover {\n",
              "      background-color: #434B5C;\n",
              "      box-shadow: 0px 1px 3px 1px rgba(0, 0, 0, 0.15);\n",
              "      filter: drop-shadow(0px 1px 2px rgba(0, 0, 0, 0.3));\n",
              "      fill: #FFFFFF;\n",
              "    }\n",
              "  </style>\n",
              "\n",
              "    <script>\n",
              "      const buttonEl =\n",
              "        document.querySelector('#df-a2c73eb5-1856-4f44-a922-9367b98cd55d button.colab-df-convert');\n",
              "      buttonEl.style.display =\n",
              "        google.colab.kernel.accessAllowed ? 'block' : 'none';\n",
              "\n",
              "      async function convertToInteractive(key) {\n",
              "        const element = document.querySelector('#df-a2c73eb5-1856-4f44-a922-9367b98cd55d');\n",
              "        const dataTable =\n",
              "          await google.colab.kernel.invokeFunction('convertToInteractive',\n",
              "                                                    [key], {});\n",
              "        if (!dataTable) return;\n",
              "\n",
              "        const docLinkHtml = 'Like what you see? Visit the ' +\n",
              "          '<a target=\"_blank\" href=https://colab.research.google.com/notebooks/data_table.ipynb>data table notebook</a>'\n",
              "          + ' to learn more about interactive tables.';\n",
              "        element.innerHTML = '';\n",
              "        dataTable['output_type'] = 'display_data';\n",
              "        await google.colab.output.renderOutput(dataTable, element);\n",
              "        const docLink = document.createElement('div');\n",
              "        docLink.innerHTML = docLinkHtml;\n",
              "        element.appendChild(docLink);\n",
              "      }\n",
              "    </script>\n",
              "  </div>\n",
              "\n",
              "\n",
              "<div id=\"df-1608c8fe-6c48-44d8-9393-03c2a30ec95c\">\n",
              "  <button class=\"colab-df-quickchart\" onclick=\"quickchart('df-1608c8fe-6c48-44d8-9393-03c2a30ec95c')\"\n",
              "            title=\"Suggest charts.\"\n",
              "            style=\"display:none;\">\n",
              "\n",
              "<svg xmlns=\"http://www.w3.org/2000/svg\" height=\"24px\"viewBox=\"0 0 24 24\"\n",
              "     width=\"24px\">\n",
              "    <g>\n",
              "        <path d=\"M19 3H5c-1.1 0-2 .9-2 2v14c0 1.1.9 2 2 2h14c1.1 0 2-.9 2-2V5c0-1.1-.9-2-2-2zM9 17H7v-7h2v7zm4 0h-2V7h2v10zm4 0h-2v-4h2v4z\"/>\n",
              "    </g>\n",
              "</svg>\n",
              "  </button>\n",
              "\n",
              "<style>\n",
              "  .colab-df-quickchart {\n",
              "      --bg-color: #E8F0FE;\n",
              "      --fill-color: #1967D2;\n",
              "      --hover-bg-color: #E2EBFA;\n",
              "      --hover-fill-color: #174EA6;\n",
              "      --disabled-fill-color: #AAA;\n",
              "      --disabled-bg-color: #DDD;\n",
              "  }\n",
              "\n",
              "  [theme=dark] .colab-df-quickchart {\n",
              "      --bg-color: #3B4455;\n",
              "      --fill-color: #D2E3FC;\n",
              "      --hover-bg-color: #434B5C;\n",
              "      --hover-fill-color: #FFFFFF;\n",
              "      --disabled-bg-color: #3B4455;\n",
              "      --disabled-fill-color: #666;\n",
              "  }\n",
              "\n",
              "  .colab-df-quickchart {\n",
              "    background-color: var(--bg-color);\n",
              "    border: none;\n",
              "    border-radius: 50%;\n",
              "    cursor: pointer;\n",
              "    display: none;\n",
              "    fill: var(--fill-color);\n",
              "    height: 32px;\n",
              "    padding: 0;\n",
              "    width: 32px;\n",
              "  }\n",
              "\n",
              "  .colab-df-quickchart:hover {\n",
              "    background-color: var(--hover-bg-color);\n",
              "    box-shadow: 0 1px 2px rgba(60, 64, 67, 0.3), 0 1px 3px 1px rgba(60, 64, 67, 0.15);\n",
              "    fill: var(--button-hover-fill-color);\n",
              "  }\n",
              "\n",
              "  .colab-df-quickchart-complete:disabled,\n",
              "  .colab-df-quickchart-complete:disabled:hover {\n",
              "    background-color: var(--disabled-bg-color);\n",
              "    fill: var(--disabled-fill-color);\n",
              "    box-shadow: none;\n",
              "  }\n",
              "\n",
              "  .colab-df-spinner {\n",
              "    border: 2px solid var(--fill-color);\n",
              "    border-color: transparent;\n",
              "    border-bottom-color: var(--fill-color);\n",
              "    animation:\n",
              "      spin 1s steps(1) infinite;\n",
              "  }\n",
              "\n",
              "  @keyframes spin {\n",
              "    0% {\n",
              "      border-color: transparent;\n",
              "      border-bottom-color: var(--fill-color);\n",
              "      border-left-color: var(--fill-color);\n",
              "    }\n",
              "    20% {\n",
              "      border-color: transparent;\n",
              "      border-left-color: var(--fill-color);\n",
              "      border-top-color: var(--fill-color);\n",
              "    }\n",
              "    30% {\n",
              "      border-color: transparent;\n",
              "      border-left-color: var(--fill-color);\n",
              "      border-top-color: var(--fill-color);\n",
              "      border-right-color: var(--fill-color);\n",
              "    }\n",
              "    40% {\n",
              "      border-color: transparent;\n",
              "      border-right-color: var(--fill-color);\n",
              "      border-top-color: var(--fill-color);\n",
              "    }\n",
              "    60% {\n",
              "      border-color: transparent;\n",
              "      border-right-color: var(--fill-color);\n",
              "    }\n",
              "    80% {\n",
              "      border-color: transparent;\n",
              "      border-right-color: var(--fill-color);\n",
              "      border-bottom-color: var(--fill-color);\n",
              "    }\n",
              "    90% {\n",
              "      border-color: transparent;\n",
              "      border-bottom-color: var(--fill-color);\n",
              "    }\n",
              "  }\n",
              "</style>\n",
              "\n",
              "  <script>\n",
              "    async function quickchart(key) {\n",
              "      const quickchartButtonEl =\n",
              "        document.querySelector('#' + key + ' button');\n",
              "      quickchartButtonEl.disabled = true;  // To prevent multiple clicks.\n",
              "      quickchartButtonEl.classList.add('colab-df-spinner');\n",
              "      try {\n",
              "        const charts = await google.colab.kernel.invokeFunction(\n",
              "            'suggestCharts', [key], {});\n",
              "      } catch (error) {\n",
              "        console.error('Error during call to suggestCharts:', error);\n",
              "      }\n",
              "      quickchartButtonEl.classList.remove('colab-df-spinner');\n",
              "      quickchartButtonEl.classList.add('colab-df-quickchart-complete');\n",
              "    }\n",
              "    (() => {\n",
              "      let quickchartButtonEl =\n",
              "        document.querySelector('#df-1608c8fe-6c48-44d8-9393-03c2a30ec95c button');\n",
              "      quickchartButtonEl.style.display =\n",
              "        google.colab.kernel.accessAllowed ? 'block' : 'none';\n",
              "    })();\n",
              "  </script>\n",
              "</div>\n",
              "    </div>\n",
              "  </div>\n"
            ]
          },
          "metadata": {},
          "execution_count": 172
        }
      ]
    },
    {
      "cell_type": "code",
      "source": [
        "#verificação 2 - balanceamento\n",
        "ax = sns.countplot(x='Churn', data=dados_final)"
      ],
      "metadata": {
        "colab": {
          "base_uri": "https://localhost:8080/",
          "height": 0
        },
        "id": "jSzaHOlyZ7r-",
        "outputId": "34546c15-849f-46ee-d245-13a6f31deb6b"
      },
      "execution_count": 173,
      "outputs": [
        {
          "output_type": "display_data",
          "data": {
            "text/plain": [
              "<Figure size 640x480 with 1 Axes>"
            ],
            "image/png": "[encoded data removed]"
          },
          "metadata": {}
        }
      ]
    },
    {
      "cell_type": "code",
      "source": [
        "dados_final.Churn.value_counts()"
      ],
      "metadata": {
        "id": "Zx0HYHd3RGl7",
        "outputId": "93889980-5595-4c35-a59f-8bb99799bcba",
        "colab": {
          "base_uri": "https://localhost:8080/"
        }
      },
      "execution_count": 174,
      "outputs": [
        {
          "output_type": "execute_result",
          "data": {
            "text/plain": [
              "0    5174\n",
              "1    5174\n",
              "Name: Churn, dtype: int64"
            ]
          },
          "metadata": {},
          "execution_count": 174
        }
      ]
    },
    {
      "cell_type": "markdown",
      "source": [
        "# Aula 2 - Método baseado na proximidade"
      ],
      "metadata": {
        "id": "_d4jEXubcPuO"
      }
    },
    {
      "cell_type": "markdown",
      "source": [
        "## 2.1 - Modelo K-nearest neighbors (KNN)\n",
        "\n",
        "(Slides)"
      ],
      "metadata": {
        "id": "PVGb9U19cW4V"
      }
    },
    {
      "cell_type": "markdown",
      "source": [
        "## 2.2 - KNN por trás dos panos"
      ],
      "metadata": {
        "id": "MvIfmyE2ckVV"
      }
    },
    {
      "cell_type": "code",
      "source": [
        "Xmaria"
      ],
      "metadata": {
        "colab": {
          "base_uri": "https://localhost:8080/"
        },
        "id": "blRWRPdXcWJ1",
        "outputId": "c5d2292b-e26c-430c-9752-e595a2bb03ff"
      },
      "execution_count": 175,
      "outputs": [
        {
          "output_type": "execute_result",
          "data": {
            "text/plain": [
              "[[0,\n",
              "  0,\n",
              "  1,\n",
              "  1,\n",
              "  0,\n",
              "  0,\n",
              "  39.9,\n",
              "  1,\n",
              "  0,\n",
              "  0,\n",
              "  0,\n",
              "  1,\n",
              "  0,\n",
              "  1,\n",
              "  0,\n",
              "  0,\n",
              "  0,\n",
              "  0,\n",
              "  1,\n",
              "  1,\n",
              "  1,\n",
              "  0,\n",
              "  0,\n",
              "  1,\n",
              "  0,\n",
              "  1,\n",
              "  0,\n",
              "  0,\n",
              "  0,\n",
              "  0,\n",
              "  1,\n",
              "  0,\n",
              "  0,\n",
              "  1,\n",
              "  0,\n",
              "  0,\n",
              "  0,\n",
              "  1]]"
            ]
          },
          "metadata": {},
          "execution_count": 175
        }
      ]
    },
    {
      "cell_type": "code",
      "source": [
        "#ymaria = ?"
      ],
      "metadata": {
        "id": "tdwhZOphjbIg"
      },
      "execution_count": 176,
      "outputs": []
    },
    {
      "cell_type": "code",
      "source": [
        "#Divisão em inputs e outputs\n",
        "X = dados_final.drop('Churn', axis = 1)\n",
        "y = dados_final['Churn']"
      ],
      "metadata": {
        "id": "h0re3ABxjlLW"
      },
      "execution_count": 177,
      "outputs": []
    },
    {
      "cell_type": "code",
      "source": [
        "#biblioteca para padronizar os dados\n",
        "from sklearn.preprocessing import StandardScaler"
      ],
      "metadata": {
        "id": "cw_-29nlkLMV"
      },
      "execution_count": 178,
      "outputs": []
    },
    {
      "cell_type": "code",
      "source": [
        "norm = StandardScaler()\n",
        "\n",
        "X_normalizado = norm.fit_transform(X)\n",
        "X_normalizado"
      ],
      "metadata": {
        "colab": {
          "base_uri": "https://localhost:8080/"
        },
        "id": "zGYhtla_kgpd",
        "outputId": "41ce4cce-6f52-4c00-b576-05d085a4f5b0"
      },
      "execution_count": 179,
      "outputs": [
        {
          "output_type": "execute_result",
          "data": {
            "text/plain": [
              "array([[ 1.26542767, -0.52771004, -3.06083934, ...,  1.30373042,\n",
              "        -0.47912706, -0.4360152 ],\n",
              "       [-0.79024667, -0.52771004,  0.32670777, ..., -0.76702973,\n",
              "         2.08712905, -0.4360152 ],\n",
              "       [-0.79024667, -0.52771004,  0.32670777, ..., -0.76702973,\n",
              "         2.08712905, -0.4360152 ],\n",
              "       ...,\n",
              "       [-0.79024667, -0.52771004,  0.32670777, ...,  1.30373042,\n",
              "        -0.47912706, -0.4360152 ],\n",
              "       [-0.79024667, -0.52771004,  0.32670777, ..., -0.76702973,\n",
              "        -0.47912706, -0.4360152 ],\n",
              "       [-0.79024667, -0.52771004,  0.32670777, ..., -0.76702973,\n",
              "        -0.47912706, -0.4360152 ]])"
            ]
          },
          "metadata": {},
          "execution_count": 179
        }
      ]
    },
    {
      "cell_type": "code",
      "source": [
        "X_normalizado[0]"
      ],
      "metadata": {
        "colab": {
          "base_uri": "https://localhost:8080/"
        },
        "id": "Cs-ivgv7qsKL",
        "outputId": "9e456055-16dd-406e-d36d-824973d2ada1"
      },
      "execution_count": 180,
      "outputs": [
        {
          "output_type": "execute_result",
          "data": {
            "text/plain": [
              "array([ 1.26542767, -0.52771004, -3.06083934,  0.81482091, -0.41318358,\n",
              "       -1.10771815, -1.3217706 , -0.88447396,  3.18604176, -0.83366906,\n",
              "        1.51268338, -1.04386816, -0.44617598,  0.86827317, -0.44617598,\n",
              "       -0.51721942, -0.95834643, -0.44617598,  1.57389661,  1.04285807,\n",
              "       -0.44617598, -0.64211419,  0.87979784, -0.44617598, -0.52426638,\n",
              "        1.18690873, -0.44617598, -0.77707385,  1.20311799, -0.44617598,\n",
              "       -0.78976268, -0.44648735,  0.73788726, -0.41989297, -0.42576817,\n",
              "        1.30373042, -0.47912706, -0.4360152 ])"
            ]
          },
          "metadata": {},
          "execution_count": 180
        }
      ]
    },
    {
      "cell_type": "code",
      "source": [
        "Xmaria_normalizado = norm.transform(pd.DataFrame(Xmaria, columns = X.columns))\n",
        "Xmaria_normalizado"
      ],
      "metadata": {
        "colab": {
          "base_uri": "https://localhost:8080/"
        },
        "id": "Ll6FnFO-kosd",
        "outputId": "5115fd77-9ca5-417a-9564-fa2fd6a2e487"
      },
      "execution_count": 181,
      "outputs": [
        {
          "output_type": "execute_result",
          "data": {
            "text/plain": [
              "array([[-0.79024667, -0.52771004,  0.32670777,  0.81482091, -0.41318358,\n",
              "        -1.14938255, -0.97236043,  1.13061554, -0.31386908, -0.83366906,\n",
              "        -0.66107688,  0.95797538, -0.44617598,  0.86827317, -0.44617598,\n",
              "        -0.51721942, -0.95834643, -0.44617598,  1.57389661,  1.04285807,\n",
              "         2.24126814, -0.64211419, -1.13662476,  2.24126814, -0.52426638,\n",
              "         1.18690873, -0.44617598, -0.77707385, -0.83117367, -0.44617598,\n",
              "         1.26620316, -0.44648735, -1.35522058,  2.38155929, -0.42576817,\n",
              "        -0.76702973, -0.47912706,  2.293498  ]])"
            ]
          },
          "metadata": {},
          "execution_count": 181
        }
      ]
    },
    {
      "cell_type": "markdown",
      "source": [
        "Distância Euclidiana:\n",
        "\n",
        "$$\\sqrt{\\sum_{i=1}^k(a_{i}-b_{i})^2}$$"
      ],
      "metadata": {
        "id": "pgU6OxezlB_F"
      }
    },
    {
      "cell_type": "code",
      "source": [
        "import numpy as np"
      ],
      "metadata": {
        "id": "SbxwDdiIk36F"
      },
      "execution_count": 182,
      "outputs": []
    },
    {
      "cell_type": "code",
      "source": [
        "a = Xmaria_normalizado"
      ],
      "metadata": {
        "id": "9oywjidemxXl"
      },
      "execution_count": 183,
      "outputs": []
    },
    {
      "cell_type": "code",
      "source": [
        "b = X_normalizado[0]"
      ],
      "metadata": {
        "id": "JL85j369li4d"
      },
      "execution_count": 184,
      "outputs": []
    },
    {
      "cell_type": "code",
      "source": [
        "#1 - começamos subtraindo\n",
        "a - b"
      ],
      "metadata": {
        "colab": {
          "base_uri": "https://localhost:8080/"
        },
        "id": "mmhEqixanDgF",
        "outputId": "a8e9baed-4e81-4a4e-fb46-894068b6c2b2"
      },
      "execution_count": 185,
      "outputs": [
        {
          "output_type": "execute_result",
          "data": {
            "text/plain": [
              "array([[-2.05567434,  0.        ,  3.38754711,  0.        ,  0.        ,\n",
              "        -0.0416644 ,  0.34941017,  2.0150895 , -3.49991084,  0.        ,\n",
              "        -2.17376025,  2.00184354,  0.        ,  0.        ,  0.        ,\n",
              "         0.        ,  0.        ,  0.        ,  0.        ,  0.        ,\n",
              "         2.68744412,  0.        , -2.01642259,  2.68744412,  0.        ,\n",
              "         0.        ,  0.        ,  0.        , -2.03429166,  0.        ,\n",
              "         2.05596584,  0.        , -2.09310784,  2.80145225,  0.        ,\n",
              "        -2.07076016,  0.        ,  2.72951321]])"
            ]
          },
          "metadata": {},
          "execution_count": 185
        }
      ]
    },
    {
      "cell_type": "code",
      "source": [
        "#2 - depois realizamos a exponenciação\n",
        "np.square(a-b)"
      ],
      "metadata": {
        "colab": {
          "base_uri": "https://localhost:8080/"
        },
        "id": "_aBlq3wPnF49",
        "outputId": "7db9d0a1-f71f-47af-e656-5e6c0f1a1ebb"
      },
      "execution_count": 186,
      "outputs": [
        {
          "output_type": "execute_result",
          "data": {
            "text/plain": [
              "array([[4.22579699e+00, 0.00000000e+00, 1.14754754e+01, 0.00000000e+00,\n",
              "        0.00000000e+00, 1.73592202e-03, 1.22087466e-01, 4.06058568e+00,\n",
              "        1.22493759e+01, 0.00000000e+00, 4.72523363e+00, 4.00737757e+00,\n",
              "        0.00000000e+00, 0.00000000e+00, 0.00000000e+00, 0.00000000e+00,\n",
              "        0.00000000e+00, 0.00000000e+00, 0.00000000e+00, 0.00000000e+00,\n",
              "        7.22235589e+00, 0.00000000e+00, 4.06596007e+00, 7.22235589e+00,\n",
              "        0.00000000e+00, 0.00000000e+00, 0.00000000e+00, 0.00000000e+00,\n",
              "        4.13834258e+00, 0.00000000e+00, 4.22699553e+00, 0.00000000e+00,\n",
              "        4.38110042e+00, 7.84813473e+00, 0.00000000e+00, 4.28804763e+00,\n",
              "        0.00000000e+00, 7.45024235e+00]])"
            ]
          },
          "metadata": {},
          "execution_count": 186
        }
      ]
    },
    {
      "cell_type": "code",
      "source": [
        "#3 - a soma\n",
        "np.sum(np.square(a-b))"
      ],
      "metadata": {
        "colab": {
          "base_uri": "https://localhost:8080/"
        },
        "id": "_bDEeU_znIxH",
        "outputId": "7a86b911-7f9d-40cc-a0d0-cd7fc2107e53"
      },
      "execution_count": 187,
      "outputs": [
        {
          "output_type": "execute_result",
          "data": {
            "text/plain": [
              "91.7112036526817"
            ]
          },
          "metadata": {},
          "execution_count": 187
        }
      ]
    },
    {
      "cell_type": "code",
      "source": [
        "#4 - então tiramos a raiz e temos nossa distância\n",
        "np.sqrt(91.70603225977928)"
      ],
      "metadata": {
        "colab": {
          "base_uri": "https://localhost:8080/"
        },
        "id": "o9NJQSP-nMUm",
        "outputId": "98e95e95-0451-4cbf-e5df-ce37739751e2"
      },
      "execution_count": 188,
      "outputs": [
        {
          "output_type": "execute_result",
          "data": {
            "text/plain": [
              "9.576326657950807"
            ]
          },
          "metadata": {},
          "execution_count": 188
        }
      ]
    },
    {
      "cell_type": "markdown",
      "source": [
        "## 2.3 - Implementando o modelo"
      ],
      "metadata": {
        "id": "_h0pFQfxwYW-"
      }
    },
    {
      "cell_type": "code",
      "source": [
        "#biblioteca para divisão dos dados\n",
        "from sklearn.model_selection import train_test_split"
      ],
      "metadata": {
        "id": "XtvZ-tMiwjN2"
      },
      "execution_count": 189,
      "outputs": []
    },
    {
      "cell_type": "code",
      "source": [
        "X_treino, X_teste, y_treino, y_teste = train_test_split(X_normalizado, y, test_size=0.3, random_state=123)"
      ],
      "metadata": {
        "id": "lWaKqJrTwxE-"
      },
      "execution_count": 190,
      "outputs": []
    },
    {
      "cell_type": "markdown",
      "source": [
        "### Treino e teste"
      ],
      "metadata": {
        "id": "LOKzwv4Uw0u7"
      }
    },
    {
      "cell_type": "code",
      "source": [
        "#biblioteca para criarmos o modelo de machine learning\n",
        "from sklearn.neighbors import KNeighborsClassifier"
      ],
      "metadata": {
        "id": "g6-t-BpEwy3G"
      },
      "execution_count": 191,
      "outputs": []
    },
    {
      "cell_type": "code",
      "source": [
        "#instanciar o modelo (criamos o modelo) - por padrão são 5 vizinhos\n",
        "knn = KNeighborsClassifier(metric='euclidean')"
      ],
      "metadata": {
        "id": "qFs4VHnhw4-O"
      },
      "execution_count": 192,
      "outputs": []
    },
    {
      "cell_type": "code",
      "source": [
        "#treinando o modelo com os dados de treino\n",
        "knn.fit(X_treino, y_treino)"
      ],
      "metadata": {
        "colab": {
          "base_uri": "https://localhost:8080/",
          "height": 75
        },
        "id": "H05zbtgIw6gt",
        "outputId": "1aa26a37-47d9-46a8-b9f2-6e8044924ce4"
      },
      "execution_count": 193,
      "outputs": [
        {
          "output_type": "execute_result",
          "data": {
            "text/plain": [
              "KNeighborsClassifier(metric='euclidean')"
            ],
            "text/html": [
              "<style>#sk-container-id-7 {color: black;background-color: white;}#sk-container-id-7 pre{padding: 0;}#sk-container-id-7 div.sk-toggleable {background-color: white;}#sk-container-id-7 label.sk-toggleable__label {cursor: pointer;display: block;width: 100%;margin-bottom: 0;padding: 0.3em;box-sizing: border-box;text-align: center;}#sk-container-id-7 label.sk-toggleable__label-arrow:before {content: \"▸\";float: left;margin-right: 0.25em;color: #696969;}#sk-container-id-7 label.sk-toggleable__label-arrow:hover:before {color: black;}#sk-container-id-7 div.sk-estimator:hover label.sk-toggleable__label-arrow:before {color: black;}#sk-container-id-7 div.sk-toggleable__content {max-height: 0;max-width: 0;overflow: hidden;text-align: left;background-color: #f0f8ff;}#sk-container-id-7 div.sk-toggleable__content pre {margin: 0.2em;color: black;border-radius: 0.25em;background-color: #f0f8ff;}#sk-container-id-7 input.sk-toggleable__control:checked~div.sk-toggleable__content {max-height: 200px;max-width: 100%;overflow: auto;}#sk-container-id-7 input.sk-toggleable__control:checked~label.sk-toggleable__label-arrow:before {content: \"▾\";}#sk-container-id-7 div.sk-estimator input.sk-toggleable__control:checked~label.sk-toggleable__label {background-color: #d4ebff;}#sk-container-id-7 div.sk-label input.sk-toggleable__control:checked~label.sk-toggleable__label {background-color: #d4ebff;}#sk-container-id-7 input.sk-hidden--visually {border: 0;clip: rect(1px 1px 1px 1px);clip: rect(1px, 1px, 1px, 1px);height: 1px;margin: -1px;overflow: hidden;padding: 0;position: absolute;width: 1px;}#sk-container-id-7 div.sk-estimator {font-family: monospace;background-color: #f0f8ff;border: 1px dotted black;border-radius: 0.25em;box-sizing: border-box;margin-bottom: 0.5em;}#sk-container-id-7 div.sk-estimator:hover {background-color: #d4ebff;}#sk-container-id-7 div.sk-parallel-item::after {content: \"\";width: 100%;border-bottom: 1px solid gray;flex-grow: 1;}#sk-container-id-7 div.sk-label:hover label.sk-toggleable__label {background-color: #d4ebff;}#sk-container-id-7 div.sk-serial::before {content: \"\";position: absolute;border-left: 1px solid gray;box-sizing: border-box;top: 0;bottom: 0;left: 50%;z-index: 0;}#sk-container-id-7 div.sk-serial {display: flex;flex-direction: column;align-items: center;background-color: white;padding-right: 0.2em;padding-left: 0.2em;position: relative;}#sk-container-id-7 div.sk-item {position: relative;z-index: 1;}#sk-container-id-7 div.sk-parallel {display: flex;align-items: stretch;justify-content: center;background-color: white;position: relative;}#sk-container-id-7 div.sk-item::before, #sk-container-id-7 div.sk-parallel-item::before {content: \"\";position: absolute;border-left: 1px solid gray;box-sizing: border-box;top: 0;bottom: 0;left: 50%;z-index: -1;}#sk-container-id-7 div.sk-parallel-item {display: flex;flex-direction: column;z-index: 1;position: relative;background-color: white;}#sk-container-id-7 div.sk-parallel-item:first-child::after {align-self: flex-end;width: 50%;}#sk-container-id-7 div.sk-parallel-item:last-child::after {align-self: flex-start;width: 50%;}#sk-container-id-7 div.sk-parallel-item:only-child::after {width: 0;}#sk-container-id-7 div.sk-dashed-wrapped {border: 1px dashed gray;margin: 0 0.4em 0.5em 0.4em;box-sizing: border-box;padding-bottom: 0.4em;background-color: white;}#sk-container-id-7 div.sk-label label {font-family: monospace;font-weight: bold;display: inline-block;line-height: 1.2em;}#sk-container-id-7 div.sk-label-container {text-align: center;}#sk-container-id-7 div.sk-container {/* jupyter's `normalize.less` sets `[hidden] { display: none; }` but bootstrap.min.css set `[hidden] { display: none !important; }` so we also need the `!important` here to be able to override the default hidden behavior on the sphinx rendered scikit-learn.org. See: https://github.com/scikit-learn/scikit-learn/issues/21755 */display: inline-block !important;position: relative;}#sk-container-id-7 div.sk-text-repr-fallback {display: none;}</style><div id=\"sk-container-id-7\" class=\"sk-top-container\"><div class=\"sk-text-repr-fallback\"><pre>KNeighborsClassifier(metric=&#x27;euclidean&#x27;)</pre><b>In a Jupyter environment, please rerun this cell to show the HTML representation or trust the notebook. <br />On GitHub, the HTML representation is unable to render, please try loading this page with nbviewer.org.</b></div><div class=\"sk-container\" hidden><div class=\"sk-item\"><div class=\"sk-estimator sk-toggleable\"><input class=\"sk-toggleable__control sk-hidden--visually\" id=\"sk-estimator-id-7\" type=\"checkbox\" checked><label for=\"sk-estimator-id-7\" class=\"sk-toggleable__label sk-toggleable__label-arrow\">KNeighborsClassifier</label><div class=\"sk-toggleable__content\"><pre>KNeighborsClassifier(metric=&#x27;euclidean&#x27;)</pre></div></div></div></div></div>"
            ]
          },
          "metadata": {},
          "execution_count": 193
        }
      ]
    },
    {
      "cell_type": "code",
      "source": [
        "#testando o modelo com os dados de teste\n",
        "predito_knn = knn.predict(X_teste)"
      ],
      "metadata": {
        "id": "2LrZiJbvw-Mf"
      },
      "execution_count": 194,
      "outputs": []
    },
    {
      "cell_type": "code",
      "source": [
        "predito_knn"
      ],
      "metadata": {
        "colab": {
          "base_uri": "https://localhost:8080/"
        },
        "id": "dirCpdIO1MZ9",
        "outputId": "44307160-39ce-4eda-dfef-68c7aff1dc64"
      },
      "execution_count": 195,
      "outputs": [
        {
          "output_type": "execute_result",
          "data": {
            "text/plain": [
              "array([1, 0, 0, ..., 0, 1, 1])"
            ]
          },
          "metadata": {},
          "execution_count": 195
        }
      ]
    },
    {
      "cell_type": "markdown",
      "source": [
        "# Aula 3 - Método probabilístico"
      ],
      "metadata": {
        "id": "EKHFh1Pr7G40"
      }
    },
    {
      "cell_type": "markdown",
      "source": [
        "## 3.1 - Teorema de Naive Bayes\n",
        "\n",
        "(slides)"
      ],
      "metadata": {
        "id": "b_EAQ1nf7VUu"
      }
    },
    {
      "cell_type": "markdown",
      "source": [
        "## 3.2 - Modelo Bernoulli Naive Bayes\n",
        "\n",
        "(slides)"
      ],
      "metadata": {
        "id": "02cUbMWf7dEN"
      }
    },
    {
      "cell_type": "markdown",
      "source": [
        "## 3.3 - Treinamento e teste"
      ],
      "metadata": {
        "id": "zIhV625O7lf9"
      }
    },
    {
      "cell_type": "code",
      "source": [
        "#biblioteca para criarmos o modelo de machine learning\n",
        "from sklearn.naive_bayes import BernoulliNB"
      ],
      "metadata": {
        "id": "vV4i1JC37xJN"
      },
      "execution_count": 196,
      "outputs": []
    },
    {
      "cell_type": "code",
      "source": [
        "#criamos o modelo\n",
        "bnb = BernoulliNB(binarize=0.44)"
      ],
      "metadata": {
        "id": "KnTnDve07ylb"
      },
      "execution_count": 197,
      "outputs": []
    },
    {
      "cell_type": "code",
      "source": [
        "#escolho utilizar mediana, porque é o valor central dos nossos dados ordenados\n",
        "np.median(X_treino)"
      ],
      "metadata": {
        "id": "AEzm1GSZ7tZZ",
        "colab": {
          "base_uri": "https://localhost:8080/"
        },
        "outputId": "f4bcacd7-fa0b-4313-ff96-478697129025"
      },
      "execution_count": 198,
      "outputs": [
        {
          "output_type": "execute_result",
          "data": {
            "text/plain": [
              "-0.4461759755508453"
            ]
          },
          "metadata": {},
          "execution_count": 198
        }
      ]
    },
    {
      "cell_type": "code",
      "source": [
        "X_treino"
      ],
      "metadata": {
        "id": "e5HdbyA27cUJ",
        "colab": {
          "base_uri": "https://localhost:8080/"
        },
        "outputId": "60f840ea-5fba-449e-ac2e-988fe0ada12a"
      },
      "execution_count": 199,
      "outputs": [
        {
          "output_type": "execute_result",
          "data": {
            "text/plain": [
              "array([[-0.79024667, -0.52771004, -3.06083934, ..., -0.76702973,\n",
              "         2.08712905, -0.4360152 ],\n",
              "       [ 1.26542767,  1.89498006,  0.32670777, ..., -0.76702973,\n",
              "         2.08712905, -0.4360152 ],\n",
              "       [-0.79024667, -0.52771004,  0.32670777, ...,  1.30373042,\n",
              "        -0.47912706, -0.4360152 ],\n",
              "       ...,\n",
              "       [ 1.26542767,  1.89498006,  0.32670777, ..., -0.76702973,\n",
              "         2.08712905, -0.4360152 ],\n",
              "       [ 1.26542767,  1.89498006,  0.32670777, ...,  1.30373042,\n",
              "        -0.47912706, -0.4360152 ],\n",
              "       [-0.79024667, -0.52771004,  0.32670777, ...,  1.30373042,\n",
              "        -0.47912706, -0.4360152 ]])"
            ]
          },
          "metadata": {},
          "execution_count": 199
        }
      ]
    },
    {
      "cell_type": "code",
      "source": [
        "y_treino"
      ],
      "metadata": {
        "id": "HevdnXNV7rPg",
        "colab": {
          "base_uri": "https://localhost:8080/"
        },
        "outputId": "b5856d16-4265-42e3-b92a-af054c617922"
      },
      "execution_count": 200,
      "outputs": [
        {
          "output_type": "execute_result",
          "data": {
            "text/plain": [
              "4831    0\n",
              "5077    0\n",
              "9023    1\n",
              "4424    1\n",
              "5236    0\n",
              "       ..\n",
              "9785    1\n",
              "7763    1\n",
              "5218    0\n",
              "1346    1\n",
              "3582    0\n",
              "Name: Churn, Length: 7243, dtype: int64"
            ]
          },
          "metadata": {},
          "execution_count": 200
        }
      ]
    },
    {
      "cell_type": "code",
      "source": [
        "#treinar o modelo\n",
        "bnb.fit(X_treino, y_treino)"
      ],
      "metadata": {
        "id": "qIIT0uX273SN",
        "colab": {
          "base_uri": "https://localhost:8080/",
          "height": 75
        },
        "outputId": "a946c61f-a3b6-4598-8dc2-c0ab94dad7af"
      },
      "execution_count": 201,
      "outputs": [
        {
          "output_type": "execute_result",
          "data": {
            "text/plain": [
              "BernoulliNB(binarize=0.44)"
            ],
            "text/html": [
              "<style>#sk-container-id-8 {color: black;background-color: white;}#sk-container-id-8 pre{padding: 0;}#sk-container-id-8 div.sk-toggleable {background-color: white;}#sk-container-id-8 label.sk-toggleable__label {cursor: pointer;display: block;width: 100%;margin-bottom: 0;padding: 0.3em;box-sizing: border-box;text-align: center;}#sk-container-id-8 label.sk-toggleable__label-arrow:before {content: \"▸\";float: left;margin-right: 0.25em;color: #696969;}#sk-container-id-8 label.sk-toggleable__label-arrow:hover:before {color: black;}#sk-container-id-8 div.sk-estimator:hover label.sk-toggleable__label-arrow:before {color: black;}#sk-container-id-8 div.sk-toggleable__content {max-height: 0;max-width: 0;overflow: hidden;text-align: left;background-color: #f0f8ff;}#sk-container-id-8 div.sk-toggleable__content pre {margin: 0.2em;color: black;border-radius: 0.25em;background-color: #f0f8ff;}#sk-container-id-8 input.sk-toggleable__control:checked~div.sk-toggleable__content {max-height: 200px;max-width: 100%;overflow: auto;}#sk-container-id-8 input.sk-toggleable__control:checked~label.sk-toggleable__label-arrow:before {content: \"▾\";}#sk-container-id-8 div.sk-estimator input.sk-toggleable__control:checked~label.sk-toggleable__label {background-color: #d4ebff;}#sk-container-id-8 div.sk-label input.sk-toggleable__control:checked~label.sk-toggleable__label {background-color: #d4ebff;}#sk-container-id-8 input.sk-hidden--visually {border: 0;clip: rect(1px 1px 1px 1px);clip: rect(1px, 1px, 1px, 1px);height: 1px;margin: -1px;overflow: hidden;padding: 0;position: absolute;width: 1px;}#sk-container-id-8 div.sk-estimator {font-family: monospace;background-color: #f0f8ff;border: 1px dotted black;border-radius: 0.25em;box-sizing: border-box;margin-bottom: 0.5em;}#sk-container-id-8 div.sk-estimator:hover {background-color: #d4ebff;}#sk-container-id-8 div.sk-parallel-item::after {content: \"\";width: 100%;border-bottom: 1px solid gray;flex-grow: 1;}#sk-container-id-8 div.sk-label:hover label.sk-toggleable__label {background-color: #d4ebff;}#sk-container-id-8 div.sk-serial::before {content: \"\";position: absolute;border-left: 1px solid gray;box-sizing: border-box;top: 0;bottom: 0;left: 50%;z-index: 0;}#sk-container-id-8 div.sk-serial {display: flex;flex-direction: column;align-items: center;background-color: white;padding-right: 0.2em;padding-left: 0.2em;position: relative;}#sk-container-id-8 div.sk-item {position: relative;z-index: 1;}#sk-container-id-8 div.sk-parallel {display: flex;align-items: stretch;justify-content: center;background-color: white;position: relative;}#sk-container-id-8 div.sk-item::before, #sk-container-id-8 div.sk-parallel-item::before {content: \"\";position: absolute;border-left: 1px solid gray;box-sizing: border-box;top: 0;bottom: 0;left: 50%;z-index: -1;}#sk-container-id-8 div.sk-parallel-item {display: flex;flex-direction: column;z-index: 1;position: relative;background-color: white;}#sk-container-id-8 div.sk-parallel-item:first-child::after {align-self: flex-end;width: 50%;}#sk-container-id-8 div.sk-parallel-item:last-child::after {align-self: flex-start;width: 50%;}#sk-container-id-8 div.sk-parallel-item:only-child::after {width: 0;}#sk-container-id-8 div.sk-dashed-wrapped {border: 1px dashed gray;margin: 0 0.4em 0.5em 0.4em;box-sizing: border-box;padding-bottom: 0.4em;background-color: white;}#sk-container-id-8 div.sk-label label {font-family: monospace;font-weight: bold;display: inline-block;line-height: 1.2em;}#sk-container-id-8 div.sk-label-container {text-align: center;}#sk-container-id-8 div.sk-container {/* jupyter's `normalize.less` sets `[hidden] { display: none; }` but bootstrap.min.css set `[hidden] { display: none !important; }` so we also need the `!important` here to be able to override the default hidden behavior on the sphinx rendered scikit-learn.org. See: https://github.com/scikit-learn/scikit-learn/issues/21755 */display: inline-block !important;position: relative;}#sk-container-id-8 div.sk-text-repr-fallback {display: none;}</style><div id=\"sk-container-id-8\" class=\"sk-top-container\"><div class=\"sk-text-repr-fallback\"><pre>BernoulliNB(binarize=0.44)</pre><b>In a Jupyter environment, please rerun this cell to show the HTML representation or trust the notebook. <br />On GitHub, the HTML representation is unable to render, please try loading this page with nbviewer.org.</b></div><div class=\"sk-container\" hidden><div class=\"sk-item\"><div class=\"sk-estimator sk-toggleable\"><input class=\"sk-toggleable__control sk-hidden--visually\" id=\"sk-estimator-id-8\" type=\"checkbox\" checked><label for=\"sk-estimator-id-8\" class=\"sk-toggleable__label sk-toggleable__label-arrow\">BernoulliNB</label><div class=\"sk-toggleable__content\"><pre>BernoulliNB(binarize=0.44)</pre></div></div></div></div></div>"
            ]
          },
          "metadata": {},
          "execution_count": 201
        }
      ]
    },
    {
      "cell_type": "code",
      "source": [
        "#testar o modelo\n",
        "predito_BNb = bnb.predict(X_teste)"
      ],
      "metadata": {
        "id": "BpCOWhx674G6"
      },
      "execution_count": 202,
      "outputs": []
    },
    {
      "cell_type": "code",
      "source": [
        "predito_BNb"
      ],
      "metadata": {
        "id": "KIS6Syvf79ou",
        "colab": {
          "base_uri": "https://localhost:8080/"
        },
        "outputId": "3f1dcb9e-7048-4a35-fdb5-ba351bd56cb7"
      },
      "execution_count": 203,
      "outputs": [
        {
          "output_type": "execute_result",
          "data": {
            "text/plain": [
              "array([1, 0, 0, ..., 1, 1, 1])"
            ]
          },
          "metadata": {},
          "execution_count": 203
        }
      ]
    },
    {
      "cell_type": "markdown",
      "source": [
        "# Aula 4 - Método Simbólico"
      ],
      "metadata": {
        "id": "I0QZ6_rY00NG"
      }
    },
    {
      "cell_type": "markdown",
      "source": [
        "## 4.1 - O que é árvore de decisão?\n",
        "\n",
        "(slides)"
      ],
      "metadata": {
        "id": "VglEIUuC2jkO"
      }
    },
    {
      "cell_type": "markdown",
      "source": [
        "## 4.2 - Por trás da árvore de decisão\n",
        "\n",
        "(slides)"
      ],
      "metadata": {
        "id": "jdtLgDk3sAQZ"
      }
    },
    {
      "cell_type": "markdown",
      "source": [
        "## 4.3 - Implementando o modelo"
      ],
      "metadata": {
        "id": "cYFuWWnTsJLP"
      }
    },
    {
      "cell_type": "code",
      "source": [
        "#biblioteca para criarmos o modelo de machine learning\n",
        "from sklearn.tree import DecisionTreeClassifier"
      ],
      "metadata": {
        "id": "VZBVqKxE2i10"
      },
      "execution_count": 204,
      "outputs": []
    },
    {
      "cell_type": "code",
      "source": [
        "#instanciando o modelo\n",
        "dtc = DecisionTreeClassifier(criterion='entropy', random_state=42)"
      ],
      "metadata": {
        "id": "AR0fPU6qsPmg"
      },
      "execution_count": 205,
      "outputs": []
    },
    {
      "cell_type": "code",
      "source": [
        "#treinar o modelo\n",
        "dtc.fit(X_treino, y_treino)"
      ],
      "metadata": {
        "colab": {
          "base_uri": "https://localhost:8080/",
          "height": 75
        },
        "id": "zG5vDatzsV7D",
        "outputId": "53faada8-f469-45ae-bb46-9c036574b753"
      },
      "execution_count": 206,
      "outputs": [
        {
          "output_type": "execute_result",
          "data": {
            "text/plain": [
              "DecisionTreeClassifier(criterion='entropy', random_state=42)"
            ],
            "text/html": [
              "<style>#sk-container-id-9 {color: black;background-color: white;}#sk-container-id-9 pre{padding: 0;}#sk-container-id-9 div.sk-toggleable {background-color: white;}#sk-container-id-9 label.sk-toggleable__label {cursor: pointer;display: block;width: 100%;margin-bottom: 0;padding: 0.3em;box-sizing: border-box;text-align: center;}#sk-container-id-9 label.sk-toggleable__label-arrow:before {content: \"▸\";float: left;margin-right: 0.25em;color: #696969;}#sk-container-id-9 label.sk-toggleable__label-arrow:hover:before {color: black;}#sk-container-id-9 div.sk-estimator:hover label.sk-toggleable__label-arrow:before {color: black;}#sk-container-id-9 div.sk-toggleable__content {max-height: 0;max-width: 0;overflow: hidden;text-align: left;background-color: #f0f8ff;}#sk-container-id-9 div.sk-toggleable__content pre {margin: 0.2em;color: black;border-radius: 0.25em;background-color: #f0f8ff;}#sk-container-id-9 input.sk-toggleable__control:checked~div.sk-toggleable__content {max-height: 200px;max-width: 100%;overflow: auto;}#sk-container-id-9 input.sk-toggleable__control:checked~label.sk-toggleable__label-arrow:before {content: \"▾\";}#sk-container-id-9 div.sk-estimator input.sk-toggleable__control:checked~label.sk-toggleable__label {background-color: #d4ebff;}#sk-container-id-9 div.sk-label input.sk-toggleable__control:checked~label.sk-toggleable__label {background-color: #d4ebff;}#sk-container-id-9 input.sk-hidden--visually {border: 0;clip: rect(1px 1px 1px 1px);clip: rect(1px, 1px, 1px, 1px);height: 1px;margin: -1px;overflow: hidden;padding: 0;position: absolute;width: 1px;}#sk-container-id-9 div.sk-estimator {font-family: monospace;background-color: #f0f8ff;border: 1px dotted black;border-radius: 0.25em;box-sizing: border-box;margin-bottom: 0.5em;}#sk-container-id-9 div.sk-estimator:hover {background-color: #d4ebff;}#sk-container-id-9 div.sk-parallel-item::after {content: \"\";width: 100%;border-bottom: 1px solid gray;flex-grow: 1;}#sk-container-id-9 div.sk-label:hover label.sk-toggleable__label {background-color: #d4ebff;}#sk-container-id-9 div.sk-serial::before {content: \"\";position: absolute;border-left: 1px solid gray;box-sizing: border-box;top: 0;bottom: 0;left: 50%;z-index: 0;}#sk-container-id-9 div.sk-serial {display: flex;flex-direction: column;align-items: center;background-color: white;padding-right: 0.2em;padding-left: 0.2em;position: relative;}#sk-container-id-9 div.sk-item {position: relative;z-index: 1;}#sk-container-id-9 div.sk-parallel {display: flex;align-items: stretch;justify-content: center;background-color: white;position: relative;}#sk-container-id-9 div.sk-item::before, #sk-container-id-9 div.sk-parallel-item::before {content: \"\";position: absolute;border-left: 1px solid gray;box-sizing: border-box;top: 0;bottom: 0;left: 50%;z-index: -1;}#sk-container-id-9 div.sk-parallel-item {display: flex;flex-direction: column;z-index: 1;position: relative;background-color: white;}#sk-container-id-9 div.sk-parallel-item:first-child::after {align-self: flex-end;width: 50%;}#sk-container-id-9 div.sk-parallel-item:last-child::after {align-self: flex-start;width: 50%;}#sk-container-id-9 div.sk-parallel-item:only-child::after {width: 0;}#sk-container-id-9 div.sk-dashed-wrapped {border: 1px dashed gray;margin: 0 0.4em 0.5em 0.4em;box-sizing: border-box;padding-bottom: 0.4em;background-color: white;}#sk-container-id-9 div.sk-label label {font-family: monospace;font-weight: bold;display: inline-block;line-height: 1.2em;}#sk-container-id-9 div.sk-label-container {text-align: center;}#sk-container-id-9 div.sk-container {/* jupyter's `normalize.less` sets `[hidden] { display: none; }` but bootstrap.min.css set `[hidden] { display: none !important; }` so we also need the `!important` here to be able to override the default hidden behavior on the sphinx rendered scikit-learn.org. See: https://github.com/scikit-learn/scikit-learn/issues/21755 */display: inline-block !important;position: relative;}#sk-container-id-9 div.sk-text-repr-fallback {display: none;}</style><div id=\"sk-container-id-9\" class=\"sk-top-container\"><div class=\"sk-text-repr-fallback\"><pre>DecisionTreeClassifier(criterion=&#x27;entropy&#x27;, random_state=42)</pre><b>In a Jupyter environment, please rerun this cell to show the HTML representation or trust the notebook. <br />On GitHub, the HTML representation is unable to render, please try loading this page with nbviewer.org.</b></div><div class=\"sk-container\" hidden><div class=\"sk-item\"><div class=\"sk-estimator sk-toggleable\"><input class=\"sk-toggleable__control sk-hidden--visually\" id=\"sk-estimator-id-9\" type=\"checkbox\" checked><label for=\"sk-estimator-id-9\" class=\"sk-toggleable__label sk-toggleable__label-arrow\">DecisionTreeClassifier</label><div class=\"sk-toggleable__content\"><pre>DecisionTreeClassifier(criterion=&#x27;entropy&#x27;, random_state=42)</pre></div></div></div></div></div>"
            ]
          },
          "metadata": {},
          "execution_count": 206
        }
      ]
    },
    {
      "cell_type": "code",
      "source": [
        "#verificar a importância de cada atributo\n",
        "dtc.feature_importances_"
      ],
      "metadata": {
        "colab": {
          "base_uri": "https://localhost:8080/"
        },
        "id": "Gx2S564TiNqI",
        "outputId": "52894258-6ead-4930-94d2-ef417f8f8088"
      },
      "execution_count": 207,
      "outputs": [
        {
          "output_type": "execute_result",
          "data": {
            "text/plain": [
              "array([0.02100894, 0.01395648, 0.0068095 , 0.01986065, 0.01886452,\n",
              "       0.1627932 , 0.22212421, 0.00939177, 0.00344576, 0.01039829,\n",
              "       0.0019815 , 0.03128648, 0.00065123, 0.00849934, 0.        ,\n",
              "       0.01698366, 0.00622973, 0.        , 0.00964718, 0.01267467,\n",
              "       0.00027769, 0.00770208, 0.01299062, 0.00368329, 0.02047256,\n",
              "       0.00371587, 0.        , 0.00156955, 0.00671244, 0.0003825 ,\n",
              "       0.01126638, 0.03622159, 0.16358635, 0.07445054, 0.01758995,\n",
              "       0.02117825, 0.02183557, 0.01975766])"
            ]
          },
          "metadata": {},
          "execution_count": 207
        }
      ]
    },
    {
      "cell_type": "code",
      "source": [
        "predito_ArvoreDecisao = dtc.predict(X_teste)"
      ],
      "metadata": {
        "id": "1N3ogMwXsYLJ"
      },
      "execution_count": 208,
      "outputs": []
    },
    {
      "cell_type": "code",
      "source": [
        "predito_ArvoreDecisao"
      ],
      "metadata": {
        "colab": {
          "base_uri": "https://localhost:8080/"
        },
        "id": "8yWcv1rCsbIT",
        "outputId": "c8a53bcd-a4aa-40ba-b996-a812fb306680"
      },
      "execution_count": 209,
      "outputs": [
        {
          "output_type": "execute_result",
          "data": {
            "text/plain": [
              "array([0, 0, 0, ..., 1, 1, 1])"
            ]
          },
          "metadata": {},
          "execution_count": 209
        }
      ]
    },
    {
      "cell_type": "markdown",
      "source": [
        "# 5 - Validação dos modelos"
      ],
      "metadata": {
        "id": "lfmj_l6ztF5J"
      }
    },
    {
      "cell_type": "markdown",
      "source": [
        "## 5.1 - Matriz de confusão\n",
        "\n"
      ],
      "metadata": {
        "id": "5LcpGgohtOM5"
      }
    },
    {
      "cell_type": "markdown",
      "source": [
        "![image.png](data:image/png;base64,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)"
      ],
      "metadata": {
        "id": "BbHrkrAnxhmv"
      }
    },
    {
      "cell_type": "code",
      "source": [
        "from sklearn.metrics import confusion_matrix"
      ],
      "metadata": {
        "id": "dIhkghN1tM3d"
      },
      "execution_count": 210,
      "outputs": []
    },
    {
      "cell_type": "code",
      "source": [
        "print(confusion_matrix(y_teste, predito_knn))"
      ],
      "metadata": {
        "colab": {
          "base_uri": "https://localhost:8080/"
        },
        "id": "vy5vfPQ7mnmP",
        "outputId": "995ffbf8-a9b4-44de-d40a-7e270a42acc6"
      },
      "execution_count": 211,
      "outputs": [
        {
          "output_type": "stream",
          "name": "stdout",
          "text": [
            "[[1242  327]\n",
            " [ 248 1288]]\n"
          ]
        }
      ]
    },
    {
      "cell_type": "code",
      "source": [
        "print(confusion_matrix(y_teste, predito_BNb))"
      ],
      "metadata": {
        "colab": {
          "base_uri": "https://localhost:8080/"
        },
        "id": "Y_TkgT9pmnj3",
        "outputId": "5adbd1b0-2430-47d6-c5ab-6dbdfec131ae"
      },
      "execution_count": 212,
      "outputs": [
        {
          "output_type": "stream",
          "name": "stdout",
          "text": [
            "[[1084  485]\n",
            " [ 238 1298]]\n"
          ]
        }
      ]
    },
    {
      "cell_type": "code",
      "source": [
        "print(confusion_matrix(y_teste, predito_ArvoreDecisao))"
      ],
      "metadata": {
        "colab": {
          "base_uri": "https://localhost:8080/"
        },
        "id": "hNAbk_Pimnhw",
        "outputId": "ae9633af-5f02-4ed0-8dde-9fa4daedfa75"
      },
      "execution_count": 213,
      "outputs": [
        {
          "output_type": "stream",
          "name": "stdout",
          "text": [
            "[[1250  319]\n",
            " [ 275 1261]]\n"
          ]
        }
      ]
    },
    {
      "cell_type": "markdown",
      "source": [
        "## 5.2 - Acurácia\n",
        "A partir do calculo da matriz de confusão conseguimos inferir outras métricas, como por exemplo a acurária.\n",
        "\n",
        "\n",
        "\n",
        "\n",
        "$ACC$ = ${TP + TN \\over TP + FP + TN + FN}$"
      ],
      "metadata": {
        "id": "sQb7vnC12XUf"
      }
    },
    {
      "cell_type": "code",
      "source": [
        "from sklearn.metrics import accuracy_score"
      ],
      "metadata": {
        "id": "Ng67mpWk2af1"
      },
      "execution_count": 214,
      "outputs": []
    },
    {
      "cell_type": "code",
      "source": [
        "#modelo KNN\n",
        "print(accuracy_score(y_teste, predito_knn))"
      ],
      "metadata": {
        "colab": {
          "base_uri": "https://localhost:8080/"
        },
        "id": "gp4Purjf2kZe",
        "outputId": "acc811d5-e5dc-4a4c-e97b-e3440e835f48"
      },
      "execution_count": 215,
      "outputs": [
        {
          "output_type": "stream",
          "name": "stdout",
          "text": [
            "0.8148148148148148\n"
          ]
        }
      ]
    },
    {
      "cell_type": "code",
      "source": [
        "#modelo Bernoulli de naive bayes\n",
        "print(accuracy_score(y_teste, predito_BNb))"
      ],
      "metadata": {
        "colab": {
          "base_uri": "https://localhost:8080/"
        },
        "id": "7JrJXLJr2loH",
        "outputId": "6815a8f4-907b-47f2-c3ff-f667402d9baa"
      },
      "execution_count": 216,
      "outputs": [
        {
          "output_type": "stream",
          "name": "stdout",
          "text": [
            "0.7671497584541063\n"
          ]
        }
      ]
    },
    {
      "cell_type": "code",
      "source": [
        "#modelo árvore de decisão\n",
        "print(accuracy_score(y_teste, predito_ArvoreDecisao))"
      ],
      "metadata": {
        "colab": {
          "base_uri": "https://localhost:8080/"
        },
        "id": "BkvmkoN92nBX",
        "outputId": "1c62e5b1-bc0c-40fc-b9ab-933e80653878"
      },
      "execution_count": 217,
      "outputs": [
        {
          "output_type": "stream",
          "name": "stdout",
          "text": [
            "0.808695652173913\n"
          ]
        }
      ]
    },
    {
      "cell_type": "markdown",
      "source": [
        "## 5.3 - Precisão\n",
        "\n",
        "Outra métrica importante é a precisão, que calcula quantos foram classificados corretamento como positivos ($TP$).\n",
        "\n",
        "$PS$ = ${TP \\over TP + FP}$"
      ],
      "metadata": {
        "id": "kfzcKhw42tmX"
      }
    },
    {
      "cell_type": "code",
      "source": [
        "from sklearn.metrics import precision_score"
      ],
      "metadata": {
        "id": "BM4AbIm62wP6"
      },
      "execution_count": 218,
      "outputs": []
    },
    {
      "cell_type": "code",
      "source": [
        "#modelo KNN\n",
        "print(precision_score(y_teste, predito_knn))"
      ],
      "metadata": {
        "colab": {
          "base_uri": "https://localhost:8080/"
        },
        "id": "hBD4K9r523g4",
        "outputId": "4e390622-ad40-473f-8b18-33706277561d"
      },
      "execution_count": 219,
      "outputs": [
        {
          "output_type": "stream",
          "name": "stdout",
          "text": [
            "0.7975232198142415\n"
          ]
        }
      ]
    },
    {
      "cell_type": "code",
      "source": [
        "#modelo Bernoulli de naive bayes\n",
        "print(precision_score(y_teste, predito_BNb))"
      ],
      "metadata": {
        "colab": {
          "base_uri": "https://localhost:8080/"
        },
        "id": "mUJumEYp24rf",
        "outputId": "18aba35e-b4ac-40b1-b620-b3c6ddef49ae"
      },
      "execution_count": 220,
      "outputs": [
        {
          "output_type": "stream",
          "name": "stdout",
          "text": [
            "0.727986539540101\n"
          ]
        }
      ]
    },
    {
      "cell_type": "code",
      "source": [
        "#modelo árvore de decisão\n",
        "print(precision_score(y_teste, predito_ArvoreDecisao))"
      ],
      "metadata": {
        "colab": {
          "base_uri": "https://localhost:8080/"
        },
        "id": "ST2dcOPJ25IS",
        "outputId": "dc2a1a22-fe75-4e9c-e7c3-1aee5c66617d"
      },
      "execution_count": 221,
      "outputs": [
        {
          "output_type": "stream",
          "name": "stdout",
          "text": [
            "0.7981012658227848\n"
          ]
        }
      ]
    },
    {
      "cell_type": "markdown",
      "source": [
        "## 5.4 - Recall\n",
        "\n",
        "Outra métrica importante é a Recall ou revocação ou ainda sensibilidade, que calcula o quão bom o modelo está para classificar corretamente um resultado positivo ($TP$).\n",
        "\n",
        "$RC$ = ${TP \\over TP + FN}$"
      ],
      "metadata": {
        "id": "TW59AoyU3DvW"
      }
    },
    {
      "cell_type": "code",
      "source": [
        "from sklearn.metrics import recall_score"
      ],
      "metadata": {
        "id": "SGX6E4Pi3LCt"
      },
      "execution_count": 222,
      "outputs": []
    },
    {
      "cell_type": "code",
      "source": [
        "#modelo KNN\n",
        "print(recall_score(y_teste, predito_knn))"
      ],
      "metadata": {
        "colab": {
          "base_uri": "https://localhost:8080/"
        },
        "id": "CVEe2W_B3OTc",
        "outputId": "0f87685a-6eb5-47b9-ea17-bb4ffee235d0"
      },
      "execution_count": 223,
      "outputs": [
        {
          "output_type": "stream",
          "name": "stdout",
          "text": [
            "0.8385416666666666\n"
          ]
        }
      ]
    },
    {
      "cell_type": "code",
      "source": [
        "#modelo Bernoulli de naive bayes\n",
        "print(recall_score(y_teste, predito_BNb))"
      ],
      "metadata": {
        "colab": {
          "base_uri": "https://localhost:8080/"
        },
        "id": "edPMCLA93Pw_",
        "outputId": "2161dccf-7eb7-46ce-cd47-2ebbee4e97a2"
      },
      "execution_count": 224,
      "outputs": [
        {
          "output_type": "stream",
          "name": "stdout",
          "text": [
            "0.8450520833333334\n"
          ]
        }
      ]
    },
    {
      "cell_type": "code",
      "source": [
        "#modelo árvore de decisão\n",
        "print(recall_score(y_teste, predito_ArvoreDecisao))"
      ],
      "metadata": {
        "colab": {
          "base_uri": "https://localhost:8080/"
        },
        "id": "4Wk5-4ej3Q_3",
        "outputId": "455f53aa-4a4d-42d3-a73e-51da95595196"
      },
      "execution_count": 225,
      "outputs": [
        {
          "output_type": "stream",
          "name": "stdout",
          "text": [
            "0.8209635416666666\n"
          ]
        }
      ]
    },
    {
      "cell_type": "markdown",
      "source": [
        "## 5.5 - Escolhendo o melhor modelo\n"
      ],
      "metadata": {
        "id": "4O7N26Fg3XwI"
      }
    },
    {
      "cell_type": "code",
      "source": [
        "#Exemplo - análise das precisões calculadas anteriormente\n",
        "print('Modelo KNN: ', precision_score(y_teste, predito_knn))\n",
        "print('Modelo Bernoulli de Naive Bayes: ', precision_score(y_teste, predito_BNb))\n",
        "print('Modelo Árvore de Decisão: ', precision_score(y_teste, predito_ArvoreDecisao))"
      ],
      "metadata": {
        "colab": {
          "base_uri": "https://localhost:8080/"
        },
        "id": "RJ5Ls9lx3pfI",
        "outputId": "38cc0001-5e3c-41d0-e558-c3522d1ab6f8"
      },
      "execution_count": 226,
      "outputs": [
        {
          "output_type": "stream",
          "name": "stdout",
          "text": [
            "Modelo KNN:  0.7975232198142415\n",
            "Modelo Bernoulli de Naive Bayes:  0.727986539540101\n",
            "Modelo Árvore de Decisão:  0.7981012658227848\n"
          ]
        }
      ]
    }
  ],
  "metadata": {
    "interpreter": {
      "hash": "df87b94f50c6b8081a9a425f6ade537f06441a824b7d68371eb29c5a5eb2838b"
    },
    "kernelspec": {
      "display_name": "Python 3.10.4 64-bit",
      "language": "python",
      "name": "python3"
    },
    "language_info": {
      "codemirror_mode": {
        "name": "ipython",
        "version": 3
      },
      "file_extension": ".py",
      "mimetype": "text/x-python",
      "name": "python",
      "nbconvert_exporter": "python",
      "pygments_lexer": "ipython3",
      "version": "3.10.4"
    },
    "orig_nbformat": 4,
    "colab": {
      "name": "Projeto_ML.ipynb",
      "provenance": [],
      "collapsed_sections": [
        "zCcuXt0FZfNe"
      ],
      "include_colab_link": true
    }
  },
  "nbformat": 4,
  "nbformat_minor": 0
}